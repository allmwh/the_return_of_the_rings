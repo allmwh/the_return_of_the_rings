{
 "cells": [
  {
   "cell_type": "code",
   "execution_count": 1,
   "id": "09a209f7",
   "metadata": {},
   "outputs": [],
   "source": [
    "from function.omaseq import FetchOmaSeqBatch"
   ]
  },
  {
   "cell_type": "code",
   "execution_count": 2,
   "id": "e6bb5b6d",
   "metadata": {},
   "outputs": [],
   "source": [
    "zz = FetchOmaSeqBatch()"
   ]
  },
  {
   "cell_type": "code",
   "execution_count": 3,
   "id": "9609bdca",
   "metadata": {},
   "outputs": [
    {
     "ename": "NameError",
     "evalue": "name '_FetchOmaSeqBatch__uniprot_id_consistance_check' is not defined",
     "output_type": "error",
     "traceback": [
      "\u001b[0;31m---------------------------------------------------------------------------\u001b[0m",
      "\u001b[0;31mNameError\u001b[0m                                 Traceback (most recent call last)",
      "\u001b[0;32m/tmp/ipykernel_833760/1008087954.py\u001b[0m in \u001b[0;36m<module>\u001b[0;34m\u001b[0m\n\u001b[0;32m----> 1\u001b[0;31m \u001b[0mzz\u001b[0m\u001b[0;34m.\u001b[0m\u001b[0mget_oma_seq\u001b[0m\u001b[0;34m(\u001b[0m\u001b[0;34m\"Q13148\"\u001b[0m\u001b[0;34m,\u001b[0m\u001b[0;34m\".\"\u001b[0m\u001b[0;34m)\u001b[0m\u001b[0;34m\u001b[0m\u001b[0;34m\u001b[0m\u001b[0m\n\u001b[0m",
      "\u001b[0;32m~/d/coding/python/the_return_of_the_rings/function/omaseq.py\u001b[0m in \u001b[0;36mget_oma_seq\u001b[0;34m(self, uniprot_id, path)\u001b[0m\n\u001b[1;32m     46\u001b[0m \u001b[0;34m\u001b[0m\u001b[0m\n\u001b[1;32m     47\u001b[0m         \u001b[0;31m# uniprot id consistance check\u001b[0m\u001b[0;34m\u001b[0m\u001b[0;34m\u001b[0m\u001b[0;34m\u001b[0m\u001b[0m\n\u001b[0;32m---> 48\u001b[0;31m         \u001b[0m__uniprot_id_consistance_check\u001b[0m\u001b[0;34m(\u001b[0m\u001b[0moma_fasta_path\u001b[0m\u001b[0;34m,\u001b[0m \u001b[0muniprot_id\u001b[0m\u001b[0;34m)\u001b[0m\u001b[0;34m\u001b[0m\u001b[0;34m\u001b[0m\u001b[0m\n\u001b[0m\u001b[1;32m     49\u001b[0m \u001b[0;34m\u001b[0m\u001b[0m\n\u001b[1;32m     50\u001b[0m     \u001b[0;32mdef\u001b[0m \u001b[0m__get_oma_fasta\u001b[0m\u001b[0;34m(\u001b[0m\u001b[0mself\u001b[0m\u001b[0;34m,\u001b[0m \u001b[0muniprot_id\u001b[0m\u001b[0;34m,\u001b[0m \u001b[0mfasta_path\u001b[0m\u001b[0;34m)\u001b[0m\u001b[0;34m:\u001b[0m\u001b[0;34m\u001b[0m\u001b[0;34m\u001b[0m\u001b[0m\n",
      "\u001b[0;31mNameError\u001b[0m: name '_FetchOmaSeqBatch__uniprot_id_consistance_check' is not defined"
     ]
    }
   ],
   "source": [
    "zz.get_oma_seq(\"Q13148\",\".\")"
   ]
  },
  {
   "cell_type": "code",
   "execution_count": null,
   "id": "a9642934",
   "metadata": {},
   "outputs": [],
   "source": []
  }
 ],
 "metadata": {
  "kernelspec": {
   "display_name": "Python 3 (ipykernel)",
   "language": "python",
   "name": "python3"
  },
  "language_info": {
   "codemirror_mode": {
    "name": "ipython",
    "version": 3
   },
   "file_extension": ".py",
   "mimetype": "text/x-python",
   "name": "python",
   "nbconvert_exporter": "python",
   "pygments_lexer": "ipython3",
   "version": "3.9.6"
  },
  "varInspector": {
   "cols": {
    "lenName": 16,
    "lenType": 16,
    "lenVar": 40
   },
   "kernels_config": {
    "python": {
     "delete_cmd_postfix": "",
     "delete_cmd_prefix": "del ",
     "library": "var_list.py",
     "varRefreshCmd": "print(var_dic_list())"
    },
    "r": {
     "delete_cmd_postfix": ") ",
     "delete_cmd_prefix": "rm(",
     "library": "var_list.r",
     "varRefreshCmd": "cat(var_dic_list()) "
    }
   },
   "types_to_exclude": [
    "module",
    "function",
    "builtin_function_or_method",
    "instance",
    "_Feature"
   ],
   "window_display": false
  }
 },
 "nbformat": 4,
 "nbformat_minor": 5
}
