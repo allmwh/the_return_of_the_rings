{
 "cells": [
  {
   "cell_type": "code",
   "execution_count": 1,
   "id": "04fe4453",
   "metadata": {},
   "outputs": [],
   "source": [
    "import pickle\n",
    "import numpy as np\n",
    "import pandas as pd\n",
    "from pathlib import Path\n",
    "from tqdm.notebook import trange\n",
    "from collections import OrderedDict\n",
    "\n",
    "import matplotlib as mpl\n",
    "import matplotlib.pyplot as plt\n",
    "from matplotlib.ticker import MultipleLocator, AutoLocator\n",
    "\n",
    "from function.utilities import get_subset\n",
    "from function.seqfilter import SeqFilter"
   ]
  },
  {
   "cell_type": "code",
   "execution_count": 23,
   "id": "c81e0294",
   "metadata": {},
   "outputs": [],
   "source": [
    "from function.utilities import get_uniprot_rawdata\n",
    "pondr_disorder_ident_path = Path(\"./output/pondr_disorder_ident\")\n",
    "od_human_df = pd.read_pickle(pondr_disorder_ident_path / \"{}_od_human_df.pkl\".format(\"VSL2\"))\n",
    "\n",
    "human_uniprot_path = Path(\"./rawdata/human_uniprot.tab\")\n",
    "human_df = get_uniprot_rawdata(human_uniprot_path)"
   ]
  },
  {
   "cell_type": "code",
   "execution_count": 26,
   "id": "7bf73d79",
   "metadata": {},
   "outputs": [],
   "source": [
    "od_ident = od_human_df[od_human_df[\"uniprot_id\"] == \"Q13148\"][\"od_ident\"].values[0]  \n",
    "protein_sequence = human_df[human_df[\"uniprot_id\"] == \"Q13148\"][\"protein_sequence\"].values[0]  "
   ]
  },
  {
   "cell_type": "code",
   "execution_count": 8,
   "id": "5cb408af",
   "metadata": {},
   "outputs": [],
   "source": [
    "seqfilter = SeqFilter()"
   ]
  },
  {
   "cell_type": "code",
   "execution_count": 34,
   "id": "a2ee6eda",
   "metadata": {},
   "outputs": [],
   "source": [
    "filtered_length = seqfilter.length_filter_by_od_ident(od_ident,40,20)"
   ]
  },
  {
   "cell_type": "code",
   "execution_count": 35,
   "id": "de7c5b04",
   "metadata": {},
   "outputs": [
    {
     "data": {
      "text/plain": [
       "'111111111111111111111110000000000000000000000000000000000000000000000000000000111111111111111111110000000000000000000000000000000000000011111110000000000000000000000000000000011111111111111111111010111111111000000000000000000000000000000000000000000000000001111111111111111111111111111111111111111111111111111111111111111111111111111111111111111111111111111111111111111111111111111111111111111111111111111111111111'"
      ]
     },
     "execution_count": 35,
     "metadata": {},
     "output_type": "execute_result"
    }
   ],
   "source": [
    "od_ident"
   ]
  },
  {
   "cell_type": "code",
   "execution_count": 36,
   "id": "622dc7ae",
   "metadata": {},
   "outputs": [
    {
     "data": {
      "text/plain": [
       "'xxxxxxxxxxxxxxxxxxxxxxx0000000000000000000000000000000000000000000000000000000xxxxxxxxxxxxxxxxxxxx00000000000000000000000000000000000000xxxxxxx00000000000000000000000000000000xxxxxxxxxxxxxxxxxxxxzxzxxxxxxxxx000000000000000000000000000000000000000000000000001111111111111111111111111111111111111111111111111111111111111111111111111111111111111111111111111111111111111111111111111111111111111111111111111111111111111'"
      ]
     },
     "execution_count": 36,
     "metadata": {},
     "output_type": "execute_result"
    }
   ],
   "source": [
    "filtered_length"
   ]
  },
  {
   "cell_type": "code",
   "execution_count": 37,
   "id": "c99d91c2",
   "metadata": {},
   "outputs": [
    {
     "data": {
      "text/plain": [
       "'MSEYIRVTEDENDEPIEIPSEDDGTVLLSTVTAQFPGACGLRYRNPVSQCMRGVRLVEGILHAPDAGWGNLVYVVNYPKDNKRKMDETDASSAVKVKRAVQKTSDLIVLGLPWKTTEQDLKEYFSTFGEVLMVQVKKDLKTGHSKGFGFVRFTEYETQVKVMSQRHMIDGRWCDCKLPNSKQSQDEPLRSRKVFVGRCTEDMTEDELREFFSQYGDVMDVFIPKPFRAFAFVTFADDQIAQSLCGEDLIIKGISVHISNAEPKHNSNRQLERSGRFGGNPGGFGNQGGFGNSRGGGAGLGNNQGSNMGGGMNFGAFSINPAMMAAAQAALQSSWGMMGMLASQQNQSGPSGNNQNQGNMQREPNQAFGSGNNSYSGSNSGAAIGWGSASNAGSGSGFNGGFGSSMDSKSSGWGM'"
      ]
     },
     "execution_count": 37,
     "metadata": {},
     "output_type": "execute_result"
    }
   ],
   "source": [
    "protein_sequence"
   ]
  },
  {
   "cell_type": "code",
   "execution_count": 38,
   "id": "61c05d56",
   "metadata": {},
   "outputs": [
    {
     "data": {
      "text/plain": [
       "'***********************GTVLLSTVTAQFPGACGLRYRNPVSQCMRGVRLVEGILHAPDAGWGNLVYVVNYP********************AVQKTSDLIVLGLPWKTTEQDLKEYFSTFGEVLMVQVK*******SKGFGFVRFTEYETQVKVMSQRHMIDGRWCDC********************z*z*********REFFSQYGDVMDVFIPKPFRAFAFVTFADDQIAQSLCGEDLIIKGISVHI*************************************************************************************************************************************************************'"
      ]
     },
     "execution_count": 38,
     "metadata": {},
     "output_type": "execute_result"
    }
   ],
   "source": [
    "seqfilter.get_seq_from_od_ident(filtered_length,protein_sequence,'order')"
   ]
  },
  {
   "cell_type": "code",
   "execution_count": 39,
   "id": "8c53a75b",
   "metadata": {},
   "outputs": [
    {
     "data": {
      "text/plain": [
       "{'order_region': [{'start': 23, 'end': 78},\n",
       "  {'start': 98, 'end': 136},\n",
       "  {'start': 143, 'end': 175},\n",
       "  {'start': 207, 'end': 257}],\n",
       " 'disorder_region': [{'start': 257, 'end': 414}]}"
      ]
     },
     "execution_count": 39,
     "metadata": {},
     "output_type": "execute_result"
    }
   ],
   "source": [
    "seqfilter.get_od_index(filtered_length)"
   ]
  },
  {
   "cell_type": "code",
   "execution_count": null,
   "id": "ea3d16f5",
   "metadata": {},
   "outputs": [],
   "source": []
  }
 ],
 "metadata": {
  "kernelspec": {
   "display_name": "Python 3 (ipykernel)",
   "language": "python",
   "name": "python3"
  },
  "language_info": {
   "codemirror_mode": {
    "name": "ipython",
    "version": 3
   },
   "file_extension": ".py",
   "mimetype": "text/x-python",
   "name": "python",
   "nbconvert_exporter": "python",
   "pygments_lexer": "ipython3",
   "version": "3.9.6"
  },
  "varInspector": {
   "cols": {
    "lenName": 16,
    "lenType": 16,
    "lenVar": 40
   },
   "kernels_config": {
    "python": {
     "delete_cmd_postfix": "",
     "delete_cmd_prefix": "del ",
     "library": "var_list.py",
     "varRefreshCmd": "print(var_dic_list())"
    },
    "r": {
     "delete_cmd_postfix": ") ",
     "delete_cmd_prefix": "rm(",
     "library": "var_list.r",
     "varRefreshCmd": "cat(var_dic_list()) "
    }
   },
   "types_to_exclude": [
    "module",
    "function",
    "builtin_function_or_method",
    "instance",
    "_Feature"
   ],
   "window_display": false
  }
 },
 "nbformat": 4,
 "nbformat_minor": 5
}
