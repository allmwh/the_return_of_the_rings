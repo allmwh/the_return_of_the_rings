{
 "cells": [
  {
   "cell_type": "code",
   "execution_count": 4,
   "id": "03591971",
   "metadata": {},
   "outputs": [],
   "source": [
    "import pickle\n",
    "import numpy as np\n",
    "import pandas as pd\n",
    "from pathlib import Path\n",
    "from tqdm.notebook import trange\n",
    "\n",
    "import matplotlib as mpl\n",
    "import matplotlib.pyplot as plt\n",
    "\n",
    "from function.omaseq import FetchOmaSeq\n",
    "from function.omaseq import TaxSeqFilter\n",
    "from function.alignment import Alignment\n",
    "from function.utilities import get_subset\n",
    "from function.seqfilter import FastaExtreFilter"
   ]
  },
  {
   "cell_type": "markdown",
   "id": "025f2388",
   "metadata": {},
   "source": [
    "# param"
   ]
  },
  {
   "cell_type": "code",
   "execution_count": 5,
   "id": "588bf305",
   "metadata": {},
   "outputs": [],
   "source": [
    "#####CHANGE HERE#####\n",
    "uniprot_id = \"Q14103\"\n",
    "#####CHANGE HERE#####"
   ]
  },
  {
   "cell_type": "code",
   "execution_count": 6,
   "id": "f8b22458",
   "metadata": {},
   "outputs": [],
   "source": [
    "oma_path = Path(\"./output/fasta/a_oma\")\n",
    "grouped_path = Path(\"./output/fasta/b_grouped\")\n",
    "alied_path = Path(\"./output/fasta/c_alied\")\n",
    "extre_filtered_path = Path(\"./output/fasta/d_extre_filtered\")\n",
    "\n",
    "gap_filter_num = 20\n",
    "max_filter_seq = 3\n",
    "\n",
    "tax_ids = [7711, 7742, 32523, 40674]"
   ]
  },
  {
   "cell_type": "markdown",
   "id": "bc71b1ba",
   "metadata": {},
   "source": [
    "# fetch oma seq"
   ]
  },
  {
   "cell_type": "code",
   "execution_count": 4,
   "id": "093f7071",
   "metadata": {},
   "outputs": [
    {
     "data": {
      "application/vnd.jupyter.widget-view+json": {
       "model_id": "76ce92c8961048a39feaaf41a59378e5",
       "version_major": 2,
       "version_minor": 0
      },
      "text/plain": [
       "Q14103:   0%|          | 0/145 [00:00<?, ?it/s]"
      ]
     },
     "metadata": {},
     "output_type": "display_data"
    }
   ],
   "source": [
    "fetchomaseq = FetchOmaSeq()\n",
    "fetchomaseq.get_oma_seq(uniprot_id, oma_path)"
   ]
  },
  {
   "cell_type": "markdown",
   "id": "0332a850",
   "metadata": {},
   "source": [
    "# group by tax"
   ]
  },
  {
   "cell_type": "code",
   "execution_count": 5,
   "id": "3222ec6c",
   "metadata": {},
   "outputs": [
    {
     "data": {
      "application/vnd.jupyter.widget-view+json": {
       "model_id": "9e3301443a104220bac56b42e76b272e",
       "version_major": 2,
       "version_minor": 0
      },
      "text/plain": [
       "  0%|          | 0/4 [00:00<?, ?it/s]"
      ]
     },
     "metadata": {},
     "output_type": "display_data"
    }
   ],
   "source": [
    "t = trange(len(tax_ids), leave=True)\n",
    "for i in t:\n",
    "    t.set_description(str(tax_ids[i]))\n",
    "    t.refresh()\n",
    "\n",
    "    oma_fasta_path = oma_path / \"{}.fasta\".format(uniprot_id)\n",
    "\n",
    "    grouped_tax_path = grouped_path / str(tax_ids[i])\n",
    "    grouped_tax_path.mkdir(parents=True, exist_ok=True)\n",
    "    grouped_fasta_path = grouped_tax_path / \"{}.fasta\".format(uniprot_id)\n",
    "\n",
    "    taxfilter = TaxSeqFilter(tax_ids[i])\n",
    "    taxfilter.taxfilter(oma_fasta_path, grouped_fasta_path)"
   ]
  },
  {
   "cell_type": "markdown",
   "id": "49605bbc",
   "metadata": {},
   "source": [
    "# alignment"
   ]
  },
  {
   "cell_type": "code",
   "execution_count": 7,
   "id": "c081ec36",
   "metadata": {},
   "outputs": [
    {
     "data": {
      "application/vnd.jupyter.widget-view+json": {
       "model_id": "956401dfc95d41a0a589f2fff7405535",
       "version_major": 2,
       "version_minor": 0
      },
      "text/plain": [
       "  0%|          | 0/4 [00:00<?, ?it/s]"
      ]
     },
     "metadata": {},
     "output_type": "display_data"
    }
   ],
   "source": [
    "alignment = Alignment()\n",
    "t = trange(len(tax_ids), leave=True)\n",
    "for i in t:\n",
    "    t.set_description(str(tax_ids[i]))\n",
    "    t.refresh()\n",
    "\n",
    "    grouped_tax_path = grouped_path / str(tax_ids[i])\n",
    "    grouped_fasta_path = grouped_tax_path / \"{}.fasta\".format(uniprot_id)\n",
    "\n",
    "    alied_tax_path = alied_path / str(tax_ids[i])\n",
    "    alied_tax_path.mkdir(parents=True, exist_ok=True)\n",
    "    alied_fasta_path = alied_tax_path / \"{}.fasta\".format(uniprot_id)\n",
    "\n",
    "    alignment.alignment_single(grouped_fasta_path, alied_fasta_path)"
   ]
  },
  {
   "cell_type": "markdown",
   "id": "1848d3cc",
   "metadata": {},
   "source": [
    "# extre filter"
   ]
  },
  {
   "cell_type": "code",
   "execution_count": 7,
   "id": "5d954727",
   "metadata": {},
   "outputs": [
    {
     "data": {
      "application/vnd.jupyter.widget-view+json": {
       "model_id": "bb70cadf1f184b9d9484ac7292b6285c",
       "version_major": 2,
       "version_minor": 0
      },
      "text/plain": [
       "  0%|          | 0/4 [00:00<?, ?it/s]"
      ]
     },
     "metadata": {},
     "output_type": "display_data"
    }
   ],
   "source": [
    "fastaextrefilter = FastaExtreFilter()\n",
    "t = trange(len(tax_ids), leave=True)\n",
    "for i in t:\n",
    "    t.set_description(str(tax_ids[i]))\n",
    "    t.refresh()\n",
    "\n",
    "    alied_tax_path = alied_path / str(tax_ids[i])\n",
    "    alied_fasta_path = alied_tax_path / \"{}.fasta\".format(uniprot_id)\n",
    "\n",
    "    extre_filtered_tax_path = extre_filtered_path / str(tax_ids[i])\n",
    "    extre_filtered_tax_path.mkdir(parents=True, exist_ok=True)\n",
    "    extre_filtered_tax_fasta_path = extre_filtered_tax_path / \"{}.fasta\".format(\n",
    "        uniprot_id\n",
    "    )\n",
    "\n",
    "    fastaextrefilter.fasta_extre_filter(\n",
    "        alied_fasta_path,\n",
    "        extre_filtered_tax_fasta_path,\n",
    "        gap_filter_num=gap_filter_num,\n",
    "        max_filter_seq=max_filter_seq,\n",
    "    )"
   ]
  },
  {
   "cell_type": "code",
   "execution_count": null,
   "id": "d5f37622",
   "metadata": {},
   "outputs": [],
   "source": []
  }
 ],
 "metadata": {
  "kernelspec": {
   "display_name": "Python 3 (ipykernel)",
   "language": "python",
   "name": "python3"
  },
  "language_info": {
   "codemirror_mode": {
    "name": "ipython",
    "version": 3
   },
   "file_extension": ".py",
   "mimetype": "text/x-python",
   "name": "python",
   "nbconvert_exporter": "python",
   "pygments_lexer": "ipython3",
   "version": "3.9.6"
  },
  "varInspector": {
   "cols": {
    "lenName": 16,
    "lenType": 16,
    "lenVar": 40
   },
   "kernels_config": {
    "python": {
     "delete_cmd_postfix": "",
     "delete_cmd_prefix": "del ",
     "library": "var_list.py",
     "varRefreshCmd": "print(var_dic_list())"
    },
    "r": {
     "delete_cmd_postfix": ") ",
     "delete_cmd_prefix": "rm(",
     "library": "var_list.r",
     "varRefreshCmd": "cat(var_dic_list()) "
    }
   },
   "types_to_exclude": [
    "module",
    "function",
    "builtin_function_or_method",
    "instance",
    "_Feature"
   ],
   "window_display": false
  }
 },
 "nbformat": 4,
 "nbformat_minor": 5
}
