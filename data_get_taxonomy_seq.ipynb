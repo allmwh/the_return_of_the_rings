{
 "cells": [
  {
   "cell_type": "code",
   "execution_count": 1,
   "id": "03591971",
   "metadata": {},
   "outputs": [],
   "source": [
    "import pickle\n",
    "import numpy as np\n",
    "import pandas as pd\n",
    "from pathlib import Path\n",
    "from tqdm.notebook import trange\n",
    "\n",
    "import matplotlib as mpl\n",
    "import matplotlib.pyplot as plt\n",
    "\n",
    "from function.omaseq import FetchOmaSeq\n",
    "from function.omaseq import TaxSeqFilter\n",
    "from function.alignment import Alignment\n",
    "from function.utilities import get_subset\n",
    "from function.seqfilter import FastaExtreFilter"
   ]
  },
  {
   "cell_type": "markdown",
   "id": "025f2388",
   "metadata": {},
   "source": [
    "# Param"
   ]
  },
  {
   "cell_type": "code",
   "execution_count": 2,
   "id": "588bf305",
   "metadata": {},
   "outputs": [],
   "source": [
    "#####CHANGE HERE#####\n",
    "uniprot_id = \"Q16594\"\n",
    "#####CHANGE HERE#####"
   ]
  },
  {
   "cell_type": "code",
   "execution_count": 3,
   "id": "f8b22458",
   "metadata": {},
   "outputs": [],
   "source": [
    "oma_path = Path(\"./output/fasta/a_oma\")\n",
    "grouped_path = Path(\"./output/fasta/b_grouped\")\n",
    "alied_path = Path(\"./output/fasta/c_alied\")\n",
    "extre_filtered_path = Path(\"./output/fasta/d_extre_filtered\")\n",
    "\n",
    "gap_filter_num = 20\n",
    "max_filter_seq = 3\n",
    "\n",
    "tax_ids = [7711, 7742, 32523, 40674] #chordata, vertebrata, tetrapoda, mammalia"
   ]
  },
  {
   "cell_type": "markdown",
   "id": "bc71b1ba",
   "metadata": {},
   "source": [
    "# Fetch oma seqence"
   ]
  },
  {
   "cell_type": "code",
   "execution_count": 4,
   "id": "093f7071",
   "metadata": {
    "scrolled": true
   },
   "outputs": [
    {
     "data": {
      "application/vnd.jupyter.widget-view+json": {
       "model_id": "e1bf4229167f4d56966aeebdb8ed6222",
       "version_major": 2,
       "version_minor": 0
      },
      "text/plain": [
       "Q16594:   0%|          | 0/80 [00:00<?, ?it/s]"
      ]
     },
     "metadata": {},
     "output_type": "display_data"
    },
    {
     "name": "stdout",
     "output_type": "stream",
     "text": [
      "Q16594 OMA DOES NOT HAVE THIS UNIPROT_ID RECORD\n"
     ]
    },
    {
     "ename": "Exception",
     "evalue": "error",
     "output_type": "error",
     "traceback": [
      "\u001b[0;31m---------------------------------------------------------------------------\u001b[0m",
      "\u001b[0;31mKeyboardInterrupt\u001b[0m                         Traceback (most recent call last)",
      "\u001b[0;32m~/d/coding/python/the_return_of_the_rings/function/omaseq.py\u001b[0m in \u001b[0;36mget_oma_seq\u001b[0;34m(self, uniprot_id, path)\u001b[0m\n\u001b[1;32m     34\u001b[0m             \u001b[0mfasta_path\u001b[0m \u001b[0;34m=\u001b[0m \u001b[0mpath\u001b[0m \u001b[0;34m/\u001b[0m \u001b[0;34m\"{}.fasta\"\u001b[0m\u001b[0;34m.\u001b[0m\u001b[0mformat\u001b[0m\u001b[0;34m(\u001b[0m\u001b[0muniprot_id\u001b[0m\u001b[0;34m)\u001b[0m\u001b[0;34m\u001b[0m\u001b[0;34m\u001b[0m\u001b[0m\n\u001b[0;32m---> 35\u001b[0;31m             \u001b[0morthologs_list\u001b[0m \u001b[0;34m=\u001b[0m \u001b[0mself\u001b[0m\u001b[0;34m.\u001b[0m\u001b[0m__get_orthologs\u001b[0m\u001b[0;34m(\u001b[0m\u001b[0muniprot_id\u001b[0m\u001b[0;34m)\u001b[0m\u001b[0;34m\u001b[0m\u001b[0;34m\u001b[0m\u001b[0m\n\u001b[0m\u001b[1;32m     36\u001b[0m             \u001b[0mself\u001b[0m\u001b[0;34m.\u001b[0m\u001b[0m__get_fasta\u001b[0m\u001b[0;34m(\u001b[0m\u001b[0morthologs_list\u001b[0m\u001b[0;34m,\u001b[0m \u001b[0mfasta_path\u001b[0m\u001b[0;34m)\u001b[0m\u001b[0;34m\u001b[0m\u001b[0;34m\u001b[0m\u001b[0m\n",
      "\u001b[0;32m~/d/coding/python/the_return_of_the_rings/function/omaseq.py\u001b[0m in \u001b[0;36m__get_orthologs\u001b[0;34m(self, uniprot_id)\u001b[0m\n\u001b[1;32m     82\u001b[0m         \u001b[0;32mfor\u001b[0m \u001b[0mi\u001b[0m \u001b[0;32min\u001b[0m \u001b[0mt\u001b[0m\u001b[0;34m:\u001b[0m\u001b[0;34m\u001b[0m\u001b[0;34m\u001b[0m\u001b[0m\n\u001b[0;32m---> 83\u001b[0;31m             \u001b[0morthologs_list\u001b[0m\u001b[0;34m.\u001b[0m\u001b[0mappend\u001b[0m\u001b[0;34m(\u001b[0m\u001b[0mself\u001b[0m\u001b[0;34m.\u001b[0m\u001b[0m__get_protein_info_from_entry\u001b[0m\u001b[0;34m(\u001b[0m\u001b[0moma_raw\u001b[0m\u001b[0;34m[\u001b[0m\u001b[0;34m\"members\"\u001b[0m\u001b[0;34m]\u001b[0m\u001b[0;34m[\u001b[0m\u001b[0mi\u001b[0m\u001b[0;34m]\u001b[0m\u001b[0;34m[\u001b[0m\u001b[0;34m\"entry_nr\"\u001b[0m\u001b[0;34m]\u001b[0m\u001b[0;34m)\u001b[0m\u001b[0;34m)\u001b[0m\u001b[0;34m\u001b[0m\u001b[0;34m\u001b[0m\u001b[0m\n\u001b[0m\u001b[1;32m     84\u001b[0m         \u001b[0;32mreturn\u001b[0m \u001b[0morthologs_list\u001b[0m\u001b[0;34m\u001b[0m\u001b[0;34m\u001b[0m\u001b[0m\n",
      "\u001b[0;32m~/d/coding/python/the_return_of_the_rings/function/omaseq.py\u001b[0m in \u001b[0;36m__get_protein_info_from_entry\u001b[0;34m(self, uniprot_id)\u001b[0m\n\u001b[1;32m     54\u001b[0m     \u001b[0;32mdef\u001b[0m \u001b[0m__get_protein_info_from_entry\u001b[0m\u001b[0;34m(\u001b[0m\u001b[0mself\u001b[0m\u001b[0;34m,\u001b[0m \u001b[0muniprot_id\u001b[0m\u001b[0;34m)\u001b[0m\u001b[0;34m:\u001b[0m\u001b[0;34m\u001b[0m\u001b[0;34m\u001b[0m\u001b[0m\n\u001b[0;32m---> 55\u001b[0;31m         \u001b[0mresp\u001b[0m \u001b[0;34m=\u001b[0m \u001b[0mrequests\u001b[0m\u001b[0;34m.\u001b[0m\u001b[0mget\u001b[0m\u001b[0;34m(\u001b[0m\u001b[0;34m\"https://omabrowser.org/api/protein/{}/\"\u001b[0m\u001b[0;34m.\u001b[0m\u001b[0mformat\u001b[0m\u001b[0;34m(\u001b[0m\u001b[0muniprot_id\u001b[0m\u001b[0;34m)\u001b[0m\u001b[0;34m)\u001b[0m\u001b[0;34m\u001b[0m\u001b[0;34m\u001b[0m\u001b[0m\n\u001b[0m\u001b[1;32m     56\u001b[0m         \u001b[0moma_raw\u001b[0m \u001b[0;34m=\u001b[0m \u001b[0mjson\u001b[0m\u001b[0;34m.\u001b[0m\u001b[0mloads\u001b[0m\u001b[0;34m(\u001b[0m\u001b[0mresp\u001b[0m\u001b[0;34m.\u001b[0m\u001b[0mtext\u001b[0m\u001b[0;34m)\u001b[0m\u001b[0;34m\u001b[0m\u001b[0;34m\u001b[0m\u001b[0m\n",
      "\u001b[0;32m~/.pyenv/versions/3.9.6/lib/python3.9/site-packages/requests/api.py\u001b[0m in \u001b[0;36mget\u001b[0;34m(url, params, **kwargs)\u001b[0m\n\u001b[1;32m     74\u001b[0m \u001b[0;34m\u001b[0m\u001b[0m\n\u001b[0;32m---> 75\u001b[0;31m     \u001b[0;32mreturn\u001b[0m \u001b[0mrequest\u001b[0m\u001b[0;34m(\u001b[0m\u001b[0;34m'get'\u001b[0m\u001b[0;34m,\u001b[0m \u001b[0murl\u001b[0m\u001b[0;34m,\u001b[0m \u001b[0mparams\u001b[0m\u001b[0;34m=\u001b[0m\u001b[0mparams\u001b[0m\u001b[0;34m,\u001b[0m \u001b[0;34m**\u001b[0m\u001b[0mkwargs\u001b[0m\u001b[0;34m)\u001b[0m\u001b[0;34m\u001b[0m\u001b[0;34m\u001b[0m\u001b[0m\n\u001b[0m\u001b[1;32m     76\u001b[0m \u001b[0;34m\u001b[0m\u001b[0m\n",
      "\u001b[0;32m~/.pyenv/versions/3.9.6/lib/python3.9/site-packages/requests/api.py\u001b[0m in \u001b[0;36mrequest\u001b[0;34m(method, url, **kwargs)\u001b[0m\n\u001b[1;32m     60\u001b[0m     \u001b[0;32mwith\u001b[0m \u001b[0msessions\u001b[0m\u001b[0;34m.\u001b[0m\u001b[0mSession\u001b[0m\u001b[0;34m(\u001b[0m\u001b[0;34m)\u001b[0m \u001b[0;32mas\u001b[0m \u001b[0msession\u001b[0m\u001b[0;34m:\u001b[0m\u001b[0;34m\u001b[0m\u001b[0;34m\u001b[0m\u001b[0m\n\u001b[0;32m---> 61\u001b[0;31m         \u001b[0;32mreturn\u001b[0m \u001b[0msession\u001b[0m\u001b[0;34m.\u001b[0m\u001b[0mrequest\u001b[0m\u001b[0;34m(\u001b[0m\u001b[0mmethod\u001b[0m\u001b[0;34m=\u001b[0m\u001b[0mmethod\u001b[0m\u001b[0;34m,\u001b[0m \u001b[0murl\u001b[0m\u001b[0;34m=\u001b[0m\u001b[0murl\u001b[0m\u001b[0;34m,\u001b[0m \u001b[0;34m**\u001b[0m\u001b[0mkwargs\u001b[0m\u001b[0;34m)\u001b[0m\u001b[0;34m\u001b[0m\u001b[0;34m\u001b[0m\u001b[0m\n\u001b[0m\u001b[1;32m     62\u001b[0m \u001b[0;34m\u001b[0m\u001b[0m\n",
      "\u001b[0;32m~/.pyenv/versions/3.9.6/lib/python3.9/site-packages/requests/sessions.py\u001b[0m in \u001b[0;36mrequest\u001b[0;34m(self, method, url, params, data, headers, cookies, files, auth, timeout, allow_redirects, proxies, hooks, stream, verify, cert, json)\u001b[0m\n\u001b[1;32m    541\u001b[0m         \u001b[0msend_kwargs\u001b[0m\u001b[0;34m.\u001b[0m\u001b[0mupdate\u001b[0m\u001b[0;34m(\u001b[0m\u001b[0msettings\u001b[0m\u001b[0;34m)\u001b[0m\u001b[0;34m\u001b[0m\u001b[0;34m\u001b[0m\u001b[0m\n\u001b[0;32m--> 542\u001b[0;31m         \u001b[0mresp\u001b[0m \u001b[0;34m=\u001b[0m \u001b[0mself\u001b[0m\u001b[0;34m.\u001b[0m\u001b[0msend\u001b[0m\u001b[0;34m(\u001b[0m\u001b[0mprep\u001b[0m\u001b[0;34m,\u001b[0m \u001b[0;34m**\u001b[0m\u001b[0msend_kwargs\u001b[0m\u001b[0;34m)\u001b[0m\u001b[0;34m\u001b[0m\u001b[0;34m\u001b[0m\u001b[0m\n\u001b[0m\u001b[1;32m    543\u001b[0m \u001b[0;34m\u001b[0m\u001b[0m\n",
      "\u001b[0;32m~/.pyenv/versions/3.9.6/lib/python3.9/site-packages/requests/sessions.py\u001b[0m in \u001b[0;36msend\u001b[0;34m(self, request, **kwargs)\u001b[0m\n\u001b[1;32m    654\u001b[0m         \u001b[0;31m# Send the request\u001b[0m\u001b[0;34m\u001b[0m\u001b[0;34m\u001b[0m\u001b[0;34m\u001b[0m\u001b[0m\n\u001b[0;32m--> 655\u001b[0;31m         \u001b[0mr\u001b[0m \u001b[0;34m=\u001b[0m \u001b[0madapter\u001b[0m\u001b[0;34m.\u001b[0m\u001b[0msend\u001b[0m\u001b[0;34m(\u001b[0m\u001b[0mrequest\u001b[0m\u001b[0;34m,\u001b[0m \u001b[0;34m**\u001b[0m\u001b[0mkwargs\u001b[0m\u001b[0;34m)\u001b[0m\u001b[0;34m\u001b[0m\u001b[0;34m\u001b[0m\u001b[0m\n\u001b[0m\u001b[1;32m    656\u001b[0m \u001b[0;34m\u001b[0m\u001b[0m\n",
      "\u001b[0;32m~/.pyenv/versions/3.9.6/lib/python3.9/site-packages/requests/adapters.py\u001b[0m in \u001b[0;36msend\u001b[0;34m(self, request, stream, timeout, verify, cert, proxies)\u001b[0m\n\u001b[1;32m    438\u001b[0m             \u001b[0;32mif\u001b[0m \u001b[0;32mnot\u001b[0m \u001b[0mchunked\u001b[0m\u001b[0;34m:\u001b[0m\u001b[0;34m\u001b[0m\u001b[0;34m\u001b[0m\u001b[0m\n\u001b[0;32m--> 439\u001b[0;31m                 resp = conn.urlopen(\n\u001b[0m\u001b[1;32m    440\u001b[0m                     \u001b[0mmethod\u001b[0m\u001b[0;34m=\u001b[0m\u001b[0mrequest\u001b[0m\u001b[0;34m.\u001b[0m\u001b[0mmethod\u001b[0m\u001b[0;34m,\u001b[0m\u001b[0;34m\u001b[0m\u001b[0;34m\u001b[0m\u001b[0m\n",
      "\u001b[0;32m~/.pyenv/versions/3.9.6/lib/python3.9/site-packages/urllib3/connectionpool.py\u001b[0m in \u001b[0;36murlopen\u001b[0;34m(self, method, url, body, headers, retries, redirect, assert_same_host, timeout, pool_timeout, release_conn, chunked, body_pos, **response_kw)\u001b[0m\n\u001b[1;32m    698\u001b[0m             \u001b[0;31m# Make the request on the httplib connection object.\u001b[0m\u001b[0;34m\u001b[0m\u001b[0;34m\u001b[0m\u001b[0;34m\u001b[0m\u001b[0m\n\u001b[0;32m--> 699\u001b[0;31m             httplib_response = self._make_request(\n\u001b[0m\u001b[1;32m    700\u001b[0m                 \u001b[0mconn\u001b[0m\u001b[0;34m,\u001b[0m\u001b[0;34m\u001b[0m\u001b[0;34m\u001b[0m\u001b[0m\n",
      "\u001b[0;32m~/.pyenv/versions/3.9.6/lib/python3.9/site-packages/urllib3/connectionpool.py\u001b[0m in \u001b[0;36m_make_request\u001b[0;34m(self, conn, method, url, timeout, chunked, **httplib_request_kw)\u001b[0m\n\u001b[1;32m    381\u001b[0m         \u001b[0;32mtry\u001b[0m\u001b[0;34m:\u001b[0m\u001b[0;34m\u001b[0m\u001b[0;34m\u001b[0m\u001b[0m\n\u001b[0;32m--> 382\u001b[0;31m             \u001b[0mself\u001b[0m\u001b[0;34m.\u001b[0m\u001b[0m_validate_conn\u001b[0m\u001b[0;34m(\u001b[0m\u001b[0mconn\u001b[0m\u001b[0;34m)\u001b[0m\u001b[0;34m\u001b[0m\u001b[0;34m\u001b[0m\u001b[0m\n\u001b[0m\u001b[1;32m    383\u001b[0m         \u001b[0;32mexcept\u001b[0m \u001b[0;34m(\u001b[0m\u001b[0mSocketTimeout\u001b[0m\u001b[0;34m,\u001b[0m \u001b[0mBaseSSLError\u001b[0m\u001b[0;34m)\u001b[0m \u001b[0;32mas\u001b[0m \u001b[0me\u001b[0m\u001b[0;34m:\u001b[0m\u001b[0;34m\u001b[0m\u001b[0;34m\u001b[0m\u001b[0m\n",
      "\u001b[0;32m~/.pyenv/versions/3.9.6/lib/python3.9/site-packages/urllib3/connectionpool.py\u001b[0m in \u001b[0;36m_validate_conn\u001b[0;34m(self, conn)\u001b[0m\n\u001b[1;32m   1009\u001b[0m         \u001b[0;32mif\u001b[0m \u001b[0;32mnot\u001b[0m \u001b[0mgetattr\u001b[0m\u001b[0;34m(\u001b[0m\u001b[0mconn\u001b[0m\u001b[0;34m,\u001b[0m \u001b[0;34m\"sock\"\u001b[0m\u001b[0;34m,\u001b[0m \u001b[0;32mNone\u001b[0m\u001b[0;34m)\u001b[0m\u001b[0;34m:\u001b[0m  \u001b[0;31m# AppEngine might not have  `.sock`\u001b[0m\u001b[0;34m\u001b[0m\u001b[0;34m\u001b[0m\u001b[0m\n\u001b[0;32m-> 1010\u001b[0;31m             \u001b[0mconn\u001b[0m\u001b[0;34m.\u001b[0m\u001b[0mconnect\u001b[0m\u001b[0;34m(\u001b[0m\u001b[0;34m)\u001b[0m\u001b[0;34m\u001b[0m\u001b[0;34m\u001b[0m\u001b[0m\n\u001b[0m\u001b[1;32m   1011\u001b[0m \u001b[0;34m\u001b[0m\u001b[0m\n",
      "\u001b[0;32m~/.pyenv/versions/3.9.6/lib/python3.9/site-packages/urllib3/connection.py\u001b[0m in \u001b[0;36mconnect\u001b[0;34m(self)\u001b[0m\n\u001b[1;32m    357\u001b[0m         \u001b[0;31m# Add certificate verification\u001b[0m\u001b[0;34m\u001b[0m\u001b[0;34m\u001b[0m\u001b[0;34m\u001b[0m\u001b[0m\n\u001b[0;32m--> 358\u001b[0;31m         \u001b[0mconn\u001b[0m \u001b[0;34m=\u001b[0m \u001b[0mself\u001b[0m\u001b[0;34m.\u001b[0m\u001b[0m_new_conn\u001b[0m\u001b[0;34m(\u001b[0m\u001b[0;34m)\u001b[0m\u001b[0;34m\u001b[0m\u001b[0;34m\u001b[0m\u001b[0m\n\u001b[0m\u001b[1;32m    359\u001b[0m         \u001b[0mhostname\u001b[0m \u001b[0;34m=\u001b[0m \u001b[0mself\u001b[0m\u001b[0;34m.\u001b[0m\u001b[0mhost\u001b[0m\u001b[0;34m\u001b[0m\u001b[0;34m\u001b[0m\u001b[0m\n",
      "\u001b[0;32m~/.pyenv/versions/3.9.6/lib/python3.9/site-packages/urllib3/connection.py\u001b[0m in \u001b[0;36m_new_conn\u001b[0;34m(self)\u001b[0m\n\u001b[1;32m    173\u001b[0m         \u001b[0;32mtry\u001b[0m\u001b[0;34m:\u001b[0m\u001b[0;34m\u001b[0m\u001b[0;34m\u001b[0m\u001b[0m\n\u001b[0;32m--> 174\u001b[0;31m             conn = connection.create_connection(\n\u001b[0m\u001b[1;32m    175\u001b[0m                 \u001b[0;34m(\u001b[0m\u001b[0mself\u001b[0m\u001b[0;34m.\u001b[0m\u001b[0m_dns_host\u001b[0m\u001b[0;34m,\u001b[0m \u001b[0mself\u001b[0m\u001b[0;34m.\u001b[0m\u001b[0mport\u001b[0m\u001b[0;34m)\u001b[0m\u001b[0;34m,\u001b[0m \u001b[0mself\u001b[0m\u001b[0;34m.\u001b[0m\u001b[0mtimeout\u001b[0m\u001b[0;34m,\u001b[0m \u001b[0;34m**\u001b[0m\u001b[0mextra_kw\u001b[0m\u001b[0;34m\u001b[0m\u001b[0;34m\u001b[0m\u001b[0m\n",
      "\u001b[0;32m~/.pyenv/versions/3.9.6/lib/python3.9/site-packages/urllib3/util/connection.py\u001b[0m in \u001b[0;36mcreate_connection\u001b[0;34m(address, timeout, source_address, socket_options)\u001b[0m\n\u001b[1;32m     85\u001b[0m                 \u001b[0msock\u001b[0m\u001b[0;34m.\u001b[0m\u001b[0mbind\u001b[0m\u001b[0;34m(\u001b[0m\u001b[0msource_address\u001b[0m\u001b[0;34m)\u001b[0m\u001b[0;34m\u001b[0m\u001b[0;34m\u001b[0m\u001b[0m\n\u001b[0;32m---> 86\u001b[0;31m             \u001b[0msock\u001b[0m\u001b[0;34m.\u001b[0m\u001b[0mconnect\u001b[0m\u001b[0;34m(\u001b[0m\u001b[0msa\u001b[0m\u001b[0;34m)\u001b[0m\u001b[0;34m\u001b[0m\u001b[0;34m\u001b[0m\u001b[0m\n\u001b[0m\u001b[1;32m     87\u001b[0m             \u001b[0;32mreturn\u001b[0m \u001b[0msock\u001b[0m\u001b[0;34m\u001b[0m\u001b[0;34m\u001b[0m\u001b[0m\n",
      "\u001b[0;31mKeyboardInterrupt\u001b[0m: ",
      "\nDuring handling of the above exception, another exception occurred:\n",
      "\u001b[0;31mException\u001b[0m                                 Traceback (most recent call last)",
      "\u001b[0;32m/tmp/ipykernel_722112/3563050815.py\u001b[0m in \u001b[0;36m<module>\u001b[0;34m\u001b[0m\n\u001b[1;32m      2\u001b[0m \u001b[0;31m#https://omabrowser.org/oma/home/\u001b[0m\u001b[0;34m\u001b[0m\u001b[0;34m\u001b[0m\u001b[0;34m\u001b[0m\u001b[0m\n\u001b[1;32m      3\u001b[0m \u001b[0mfetchomaseq\u001b[0m \u001b[0;34m=\u001b[0m \u001b[0mFetchOmaSeq\u001b[0m\u001b[0;34m(\u001b[0m\u001b[0;34m)\u001b[0m\u001b[0;34m\u001b[0m\u001b[0;34m\u001b[0m\u001b[0m\n\u001b[0;32m----> 4\u001b[0;31m \u001b[0mfetchomaseq\u001b[0m\u001b[0;34m.\u001b[0m\u001b[0mget_oma_seq\u001b[0m\u001b[0;34m(\u001b[0m\u001b[0muniprot_id\u001b[0m\u001b[0;34m,\u001b[0m \u001b[0moma_path\u001b[0m\u001b[0;34m)\u001b[0m\u001b[0;34m\u001b[0m\u001b[0;34m\u001b[0m\u001b[0m\n\u001b[0m",
      "\u001b[0;32m~/d/coding/python/the_return_of_the_rings/function/omaseq.py\u001b[0m in \u001b[0;36mget_oma_seq\u001b[0;34m(self, uniprot_id, path)\u001b[0m\n\u001b[1;32m     37\u001b[0m         \u001b[0;32mexcept\u001b[0m\u001b[0;34m:\u001b[0m\u001b[0;34m\u001b[0m\u001b[0;34m\u001b[0m\u001b[0m\n\u001b[1;32m     38\u001b[0m             \u001b[0mprint\u001b[0m\u001b[0;34m(\u001b[0m\u001b[0;34m\"{} OMA DOES NOT HAVE THIS UNIPROT_ID RECORD\"\u001b[0m\u001b[0;34m.\u001b[0m\u001b[0mformat\u001b[0m\u001b[0;34m(\u001b[0m\u001b[0muniprot_id\u001b[0m\u001b[0;34m)\u001b[0m\u001b[0;34m)\u001b[0m\u001b[0;34m\u001b[0m\u001b[0;34m\u001b[0m\u001b[0m\n\u001b[0;32m---> 39\u001b[0;31m             \u001b[0;32mraise\u001b[0m \u001b[0mException\u001b[0m\u001b[0;34m(\u001b[0m\u001b[0;34m\"error\"\u001b[0m\u001b[0;34m)\u001b[0m\u001b[0;34m\u001b[0m\u001b[0;34m\u001b[0m\u001b[0m\n\u001b[0m\u001b[1;32m     40\u001b[0m \u001b[0;34m\u001b[0m\u001b[0m\n\u001b[1;32m     41\u001b[0m         \u001b[0;31m# some uniprot id in OMA paralogs is not consist with uniprot\u001b[0m\u001b[0;34m\u001b[0m\u001b[0;34m\u001b[0m\u001b[0;34m\u001b[0m\u001b[0m\n",
      "\u001b[0;31mException\u001b[0m: error"
     ]
    }
   ],
   "source": [
    "#get paralogs by uniprot id from OMA, \n",
    "#https://omabrowser.org/oma/home/\n",
    "fetchomaseq = FetchOmaSeq()\n",
    "fetchomaseq.get_oma_seq(uniprot_id, oma_path)"
   ]
  },
  {
   "cell_type": "markdown",
   "id": "0332a850",
   "metadata": {},
   "source": [
    "# Group by taxonomy id"
   ]
  },
  {
   "cell_type": "code",
   "execution_count": 49,
   "id": "3222ec6c",
   "metadata": {},
   "outputs": [
    {
     "data": {
      "application/vnd.jupyter.widget-view+json": {
       "model_id": "310dc7df253e4d708bacb95a803e2782",
       "version_major": 2,
       "version_minor": 0
      },
      "text/plain": [
       "  0%|          | 0/4 [00:00<?, ?it/s]"
      ]
     },
     "metadata": {},
     "output_type": "display_data"
    }
   ],
   "source": [
    "#filter paralogs by taxonomy id, and save as fasta file\n",
    "t = trange(len(tax_ids), leave=True)\n",
    "for i in t:\n",
    "    t.set_description(str(tax_ids[i]))\n",
    "    t.refresh()\n",
    "\n",
    "    oma_fasta_path = oma_path / \"{}.fasta\".format(uniprot_id)\n",
    "\n",
    "    grouped_tax_path = grouped_path / str(tax_ids[i])\n",
    "    grouped_tax_path.mkdir(parents=True, exist_ok=True)\n",
    "    grouped_fasta_path = grouped_tax_path / \"{}.fasta\".format(uniprot_id)\n",
    "\n",
    "    taxfilter = TaxSeqFilter(tax_ids[i])\n",
    "    taxfilter.taxfilter(oma_fasta_path, grouped_fasta_path)"
   ]
  },
  {
   "cell_type": "markdown",
   "id": "49605bbc",
   "metadata": {},
   "source": [
    "# Alignment"
   ]
  },
  {
   "cell_type": "code",
   "execution_count": 50,
   "id": "c081ec36",
   "metadata": {},
   "outputs": [
    {
     "data": {
      "application/vnd.jupyter.widget-view+json": {
       "model_id": "3970c24e7e5c4a0ca2f3bf1ca8d55ba8",
       "version_major": 2,
       "version_minor": 0
      },
      "text/plain": [
       "  0%|          | 0/4 [00:00<?, ?it/s]"
      ]
     },
     "metadata": {},
     "output_type": "display_data"
    }
   ],
   "source": [
    "#alignment func by Biopython ClustalOmegaCommandline\n",
    "#need to install ClustalOmega: http://www.clustal.org/omega/\n",
    "alignment = Alignment()\n",
    "t = trange(len(tax_ids), leave=True)\n",
    "for i in t:\n",
    "    t.set_description(str(tax_ids[i]))\n",
    "    t.refresh()\n",
    "\n",
    "    grouped_tax_path = grouped_path / str(tax_ids[i])\n",
    "    grouped_fasta_path = grouped_tax_path / \"{}.fasta\".format(uniprot_id)\n",
    "\n",
    "    alied_tax_path = alied_path / str(tax_ids[i])\n",
    "    alied_tax_path.mkdir(parents=True, exist_ok=True)\n",
    "    alied_fasta_path = alied_tax_path / \"{}.fasta\".format(uniprot_id)\n",
    "\n",
    "    alignment.alignment_single(grouped_fasta_path, alied_fasta_path)"
   ]
  },
  {
   "cell_type": "markdown",
   "id": "1848d3cc",
   "metadata": {},
   "source": [
    "# Extre filter"
   ]
  },
  {
   "cell_type": "code",
   "execution_count": 11,
   "id": "5d954727",
   "metadata": {},
   "outputs": [
    {
     "data": {
      "application/vnd.jupyter.widget-view+json": {
       "model_id": "826ea6e887784e3a9afcfc39d2220069",
       "version_major": 2,
       "version_minor": 0
      },
      "text/plain": [
       "  0%|          | 0/4 [00:00<?, ?it/s]"
      ]
     },
     "metadata": {},
     "output_type": "display_data"
    },
    {
     "name": "stdout",
     "output_type": "stream",
     "text": [
      "Q16594: seq nums [19, 12] in fasta file are filtered, tax group 7711\n",
      "Q16594: seq nums [19, 12] in fasta file are filtered, tax group 7742\n",
      "Q16594: seq nums [31, 25, 3] in fasta file are filtered, tax group 32523\n",
      "Q16594: seq nums [31, 25, 3] in fasta file are filtered, tax group 40674\n"
     ]
    }
   ],
   "source": [
    "#filter some special paralogs, \n",
    "#i.e. some sequences in paralogs has long gap(>20) in alied fasta file, \n",
    "#while other sequences do not have gap, we think this is \"special\", and filter it\n",
    "fastaextrefilter = FastaExtreFilter()\n",
    "t = trange(len(tax_ids), leave=True)\n",
    "for i in t:\n",
    "    t.set_description(str(tax_ids[i]))\n",
    "    t.refresh()\n",
    "\n",
    "    alied_tax_path = alied_path / str(tax_ids[i])\n",
    "    alied_fasta_path = alied_tax_path / \"{}.fasta\".format(uniprot_id)\n",
    "\n",
    "    extre_filtered_tax_path = extre_filtered_path / str(tax_ids[i])\n",
    "    extre_filtered_tax_path.mkdir(parents=True, exist_ok=True)\n",
    "    extre_filtered_tax_fasta_path = extre_filtered_tax_path / \"{}.fasta\".format(uniprot_id)\n",
    "\n",
    "    extre_index = fastaextrefilter.fasta_extre_filter(alied_fasta_path,\n",
    "                                                      extre_filtered_tax_fasta_path,\n",
    "                                                      gap_filter_num=gap_filter_num,\n",
    "                                                      max_filter_seq=max_filter_seq,\n",
    "                                                      )\n",
    "    \n",
    "    "
   ]
  },
  {
   "cell_type": "code",
   "execution_count": 4,
   "id": "e48af63c",
   "metadata": {},
   "outputs": [],
   "source": [
    "alied_path = Path(\"/home/wenlin/d/rbp/oma_all/d_alied_rbp\")\n",
    "extre_filtered_path = Path(\"/home/wenlin/d/rbp/oma_all/e_extre_filtered_rbp\")"
   ]
  },
  {
   "cell_type": "code",
   "execution_count": 5,
   "id": "f1e57693",
   "metadata": {},
   "outputs": [
    {
     "data": {
      "application/vnd.jupyter.widget-view+json": {
       "model_id": "35e385c8c0a04f4a9a64a797632a4918",
       "version_major": 2,
       "version_minor": 0
      },
      "text/plain": [
       "  0%|          | 0/4 [00:00<?, ?it/s]"
      ]
     },
     "metadata": {},
     "output_type": "display_data"
    },
    {
     "name": "stdout",
     "output_type": "stream",
     "text": [
      "Q6P1Q9 FILTERED FASTA IS EMPTY\n",
      "Q6P1Q9\n",
      "Q13117 FILTERED FASTA IS EMPTY\n",
      "Q13117\n",
      "P0DJD3 FILTERED FASTA IS EMPTY\n",
      "P0DJD3\n",
      "P17844 FILTERED FASTA IS EMPTY\n",
      "P17844\n",
      "Q9NR90 FILTERED FASTA IS EMPTY\n",
      "Q9NR90\n",
      "P49792 FILTERED FASTA IS EMPTY\n",
      "P49792\n",
      "Q6P1Q9 FILTERED FASTA IS EMPTY\n",
      "Q6P1Q9\n",
      "Q13117 FILTERED FASTA IS EMPTY\n",
      "Q13117\n",
      "P0DJD3 FILTERED FASTA IS EMPTY\n",
      "P0DJD3\n",
      "Q8N5A5 FILTERED FASTA IS EMPTY\n",
      "Q8N5A5\n",
      "P17844 FILTERED FASTA IS EMPTY\n",
      "P17844\n",
      "Q9NR90 FILTERED FASTA IS EMPTY\n",
      "Q9NR90\n",
      "P49792 FILTERED FASTA IS EMPTY\n",
      "P49792\n",
      "Q6P1Q9 FILTERED FASTA IS EMPTY\n",
      "Q6P1Q9\n",
      "Q9BZB8 FILTERED FASTA IS EMPTY\n",
      "Q9BZB8\n",
      "P0DJD3 FILTERED FASTA IS EMPTY\n",
      "P0DJD3\n",
      "Q8N5A5 FILTERED FASTA IS EMPTY\n",
      "Q8N5A5\n",
      "P17844 FILTERED FASTA IS EMPTY\n",
      "P17844\n",
      "B5ME19 FILTERED FASTA IS EMPTY\n",
      "B5ME19\n",
      "Q9NR90 FILTERED FASTA IS EMPTY\n",
      "Q9NR90\n",
      "P49792 FILTERED FASTA IS EMPTY\n",
      "P49792\n",
      "Q9Y6E2 FILTERED FASTA IS EMPTY\n",
      "Q9Y6E2\n",
      "Q6IS14 FILTERED FASTA IS EMPTY\n",
      "Q6IS14\n",
      "Q6P1Q9 FILTERED FASTA IS EMPTY\n",
      "Q6P1Q9\n",
      "Q05639 FILTERED FASTA IS EMPTY\n",
      "Q05639\n",
      "Q8IZ69 FILTERED FASTA IS EMPTY\n",
      "Q8IZ69\n",
      "Q9BZB8 FILTERED FASTA IS EMPTY\n",
      "Q9BZB8\n",
      "O75127 FILTERED FASTA IS EMPTY\n",
      "O75127\n",
      "P0DJD3 FILTERED FASTA IS EMPTY\n",
      "P0DJD3\n",
      "P52435 FILTERED FASTA IS EMPTY\n",
      "P52435\n",
      "Q8N5A5 FILTERED FASTA IS EMPTY\n",
      "Q8N5A5\n",
      "B5ME19 FILTERED FASTA IS EMPTY\n",
      "B5ME19\n",
      "Q9NR90 FILTERED FASTA IS EMPTY\n",
      "Q9NR90\n",
      "O00584 FILTERED FASTA IS EMPTY\n",
      "O00584\n",
      "Q9Y6E2 FILTERED FASTA IS EMPTY\n",
      "Q9Y6E2\n",
      "Q6IS14 FILTERED FASTA IS EMPTY\n",
      "Q6IS14\n"
     ]
    }
   ],
   "source": [
    "fastaextrefilter = FastaExtreFilter()\n",
    "t = trange(len(tax_ids), leave=True)\n",
    "for i in t:\n",
    "    t.set_description(str(tax_ids[i]))\n",
    "    t.refresh()\n",
    "\n",
    "    alied_tax_path = alied_path / str(tax_ids[i])\n",
    "    \n",
    "\n",
    "    extre_filtered_tax_path = extre_filtered_path / str(tax_ids[i])\n",
    "    extre_filtered_tax_path.mkdir(parents=True, exist_ok=True)\n",
    "    \n",
    "    for alied_fasta_path in alied_tax_path.rglob(\"*.fasta\"):\n",
    "        try:\n",
    "            uniprot_id = alied_fasta_path.parts[-1].split('.')[0]\n",
    "\n",
    "            extre_filtered_tax_fasta_path = extre_filtered_tax_path / \"{}.fasta\".format(uniprot_id)\n",
    "\n",
    "\n",
    "            extre_index = fastaextrefilter.fasta_extre_filter(alied_fasta_path,\n",
    "                                                              extre_filtered_tax_fasta_path,\n",
    "                                                              gap_filter_num=gap_filter_num,\n",
    "                                                              max_filter_seq=max_filter_seq,\n",
    "                                                              )\n",
    "        except:\n",
    "            print(\"{}\".format(uniprot_id))"
   ]
  },
  {
   "cell_type": "code",
   "execution_count": null,
   "id": "047b7d42",
   "metadata": {},
   "outputs": [],
   "source": []
  }
 ],
 "metadata": {
  "kernelspec": {
   "display_name": "Python 3 (ipykernel)",
   "language": "python",
   "name": "python3"
  },
  "language_info": {
   "codemirror_mode": {
    "name": "ipython",
    "version": 3
   },
   "file_extension": ".py",
   "mimetype": "text/x-python",
   "name": "python",
   "nbconvert_exporter": "python",
   "pygments_lexer": "ipython3",
   "version": "3.9.6"
  },
  "varInspector": {
   "cols": {
    "lenName": 16,
    "lenType": 16,
    "lenVar": 40
   },
   "kernels_config": {
    "python": {
     "delete_cmd_postfix": "",
     "delete_cmd_prefix": "del ",
     "library": "var_list.py",
     "varRefreshCmd": "print(var_dic_list())"
    },
    "r": {
     "delete_cmd_postfix": ") ",
     "delete_cmd_prefix": "rm(",
     "library": "var_list.r",
     "varRefreshCmd": "cat(var_dic_list()) "
    }
   },
   "types_to_exclude": [
    "module",
    "function",
    "builtin_function_or_method",
    "instance",
    "_Feature"
   ],
   "window_display": false
  }
 },
 "nbformat": 4,
 "nbformat_minor": 5
}
