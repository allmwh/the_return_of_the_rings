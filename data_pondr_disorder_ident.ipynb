{
 "cells": [
  {
   "cell_type": "code",
   "execution_count": 1,
   "id": "4a4b8237",
   "metadata": {},
   "outputs": [],
   "source": [
    "import pickle\n",
    "import numpy as np\n",
    "import pandas as pd\n",
    "from pathlib import Path\n",
    "from tqdm.notebook import trange\n",
    "\n",
    "from function.cutpondr import CutPONDR\n",
    "from function.utilities import get_uniprot_rawdata"
   ]
  },
  {
   "cell_type": "markdown",
   "id": "7eacb932",
   "metadata": {},
   "source": [
    "# param"
   ]
  },
  {
   "cell_type": "code",
   "execution_count": 2,
   "id": "6db3ae6f",
   "metadata": {},
   "outputs": [],
   "source": [
    "#####CHANGE HERE#####\n",
    "algorithm = \"VSL2\"  # PONDR algorithm for use (‘VLXT’, ‘XL1_XT’, ‘CAN_XT’, ‘VL3-BA’, 'VSL2')\n",
    "chromedriver_path = Path(\"/home/wenlin/d/custom_command/chromedriver\") # chrome driver's path\n",
    "#####CHANGE HERE#####"
   ]
  },
  {
   "cell_type": "code",
   "execution_count": 8,
   "id": "e7f78e84",
   "metadata": {},
   "outputs": [],
   "source": [
    "# path for protein data downloaded from uniprot\n",
    "pondr_disorder_ident_path = Path(\"./output/pondr_disorder_ident\")"
   ]
  },
  {
   "cell_type": "markdown",
   "id": "6907c83d",
   "metadata": {},
   "source": [
    "# load uniprot data"
   ]
  },
  {
   "cell_type": "code",
   "execution_count": 4,
   "id": "b10b2768",
   "metadata": {},
   "outputs": [],
   "source": [
    "human_uniprot_path = Path(\"./rawdata/human_uniprot.tab\")\n",
    "human_df = get_uniprot_rawdata(human_uniprot_path)"
   ]
  },
  {
   "cell_type": "code",
   "execution_count": 5,
   "id": "1ec4d5a6",
   "metadata": {},
   "outputs": [
    {
     "data": {
      "text/html": [
       "<div>\n",
       "<style scoped>\n",
       "    .dataframe tbody tr th:only-of-type {\n",
       "        vertical-align: middle;\n",
       "    }\n",
       "\n",
       "    .dataframe tbody tr th {\n",
       "        vertical-align: top;\n",
       "    }\n",
       "\n",
       "    .dataframe thead th {\n",
       "        text-align: right;\n",
       "    }\n",
       "</style>\n",
       "<table border=\"1\" class=\"dataframe\">\n",
       "  <thead>\n",
       "    <tr style=\"text-align: right;\">\n",
       "      <th></th>\n",
       "      <th>uniprot_id</th>\n",
       "      <th>gene_name</th>\n",
       "      <th>protein_name</th>\n",
       "      <th>protein_sequence</th>\n",
       "      <th>taxonomy</th>\n",
       "    </tr>\n",
       "  </thead>\n",
       "  <tbody>\n",
       "    <tr>\n",
       "      <th>0</th>\n",
       "      <td>Q96R72</td>\n",
       "      <td>OR4K3</td>\n",
       "      <td>Olfactory receptor 4K3 (Olfactory receptor OR1...</td>\n",
       "      <td>MAWSNQSAVTEFILRGLSSSLELQIFYFLFFSIVYAATVLGNLLIV...</td>\n",
       "      <td>9606</td>\n",
       "    </tr>\n",
       "    <tr>\n",
       "      <th>1</th>\n",
       "      <td>Q9UKL2</td>\n",
       "      <td>OR52A1</td>\n",
       "      <td>Olfactory receptor 52A1 (HPFH1OR) (Odorant rec...</td>\n",
       "      <td>MSISNITVYMPSVLTLVGIPGLESVQCWIGIPFCAIYLIAMIGNSL...</td>\n",
       "      <td>9606</td>\n",
       "    </tr>\n",
       "    <tr>\n",
       "      <th>2</th>\n",
       "      <td>Q9H205</td>\n",
       "      <td>OR2AG1</td>\n",
       "      <td>Olfactory receptor 2AG1 (HT3) (Olfactory recep...</td>\n",
       "      <td>MELWNFTLGSGFILVGILNDSGSPELLCATITILYLLALISNGLLL...</td>\n",
       "      <td>9606</td>\n",
       "    </tr>\n",
       "    <tr>\n",
       "      <th>3</th>\n",
       "      <td>Q8NGN2</td>\n",
       "      <td>OR10S1</td>\n",
       "      <td>Olfactory receptor 10S1 (Olfactory receptor OR...</td>\n",
       "      <td>MTSRSVCEKMTMTTENPNQTVVSHFFLEGLRYTAKHSSLFFLLFLL...</td>\n",
       "      <td>9606</td>\n",
       "    </tr>\n",
       "    <tr>\n",
       "      <th>4</th>\n",
       "      <td>Q8NGC1</td>\n",
       "      <td>OR11G2</td>\n",
       "      <td>Olfactory receptor 11G2 (Olfactory receptor OR...</td>\n",
       "      <td>MHFLSQNDLNINLIPHLCLHRHSVIAGAFTIHRHMKIFNSPSNSST...</td>\n",
       "      <td>9606</td>\n",
       "    </tr>\n",
       "    <tr>\n",
       "      <th>...</th>\n",
       "      <td>...</td>\n",
       "      <td>...</td>\n",
       "      <td>...</td>\n",
       "      <td>...</td>\n",
       "      <td>...</td>\n",
       "    </tr>\n",
       "    <tr>\n",
       "      <th>20391</th>\n",
       "      <td>Q8WVZ7</td>\n",
       "      <td>RNF133</td>\n",
       "      <td>E3 ubiquitin-protein ligase RNF133 (EC 2.3.2.2...</td>\n",
       "      <td>MHLLKVGTWRNNTASSWLMKFSVLWLVSQNCCRASVVWMAYMNISF...</td>\n",
       "      <td>9606</td>\n",
       "    </tr>\n",
       "    <tr>\n",
       "      <th>20392</th>\n",
       "      <td>P05387</td>\n",
       "      <td>RPLP2</td>\n",
       "      <td>60S acidic ribosomal protein P2 (Large ribosom...</td>\n",
       "      <td>MRYVASYLLAALGGNSSPSAKDIKKILDSVGIEADDDRLNKVISEL...</td>\n",
       "      <td>9606</td>\n",
       "    </tr>\n",
       "    <tr>\n",
       "      <th>20393</th>\n",
       "      <td>P51991</td>\n",
       "      <td>HNRNPA3</td>\n",
       "      <td>Heterogeneous nuclear ribonucleoprotein A3 (hn...</td>\n",
       "      <td>MEVKPPPGRPQPDSGRRRRRRGEEGHDPKEPEQLRKLFIGGLSFET...</td>\n",
       "      <td>9606</td>\n",
       "    </tr>\n",
       "    <tr>\n",
       "      <th>20394</th>\n",
       "      <td>Q9BZX4</td>\n",
       "      <td>ROPN1B</td>\n",
       "      <td>Ropporin-1B (Rhophilin-associated protein 1B)</td>\n",
       "      <td>MAQTDKPTCIPPELPKMLKEFAKAAIRAQPQDLIQWGADYFEALSR...</td>\n",
       "      <td>9606</td>\n",
       "    </tr>\n",
       "    <tr>\n",
       "      <th>20395</th>\n",
       "      <td>P34096</td>\n",
       "      <td>RNASE4</td>\n",
       "      <td>Ribonuclease 4 (RNase 4) (EC 3.1.27.-)</td>\n",
       "      <td>MALQRTHSLLLLLLLTLLGLGLVQPSYGQDGMYQRFLRQHVHPEET...</td>\n",
       "      <td>9606</td>\n",
       "    </tr>\n",
       "  </tbody>\n",
       "</table>\n",
       "<p>20396 rows × 5 columns</p>\n",
       "</div>"
      ],
      "text/plain": [
       "      uniprot_id gene_name                                       protein_name  \\\n",
       "0         Q96R72     OR4K3  Olfactory receptor 4K3 (Olfactory receptor OR1...   \n",
       "1         Q9UKL2    OR52A1  Olfactory receptor 52A1 (HPFH1OR) (Odorant rec...   \n",
       "2         Q9H205    OR2AG1  Olfactory receptor 2AG1 (HT3) (Olfactory recep...   \n",
       "3         Q8NGN2    OR10S1  Olfactory receptor 10S1 (Olfactory receptor OR...   \n",
       "4         Q8NGC1    OR11G2  Olfactory receptor 11G2 (Olfactory receptor OR...   \n",
       "...          ...       ...                                                ...   \n",
       "20391     Q8WVZ7    RNF133  E3 ubiquitin-protein ligase RNF133 (EC 2.3.2.2...   \n",
       "20392     P05387     RPLP2  60S acidic ribosomal protein P2 (Large ribosom...   \n",
       "20393     P51991   HNRNPA3  Heterogeneous nuclear ribonucleoprotein A3 (hn...   \n",
       "20394     Q9BZX4    ROPN1B      Ropporin-1B (Rhophilin-associated protein 1B)   \n",
       "20395     P34096    RNASE4             Ribonuclease 4 (RNase 4) (EC 3.1.27.-)   \n",
       "\n",
       "                                        protein_sequence taxonomy  \n",
       "0      MAWSNQSAVTEFILRGLSSSLELQIFYFLFFSIVYAATVLGNLLIV...     9606  \n",
       "1      MSISNITVYMPSVLTLVGIPGLESVQCWIGIPFCAIYLIAMIGNSL...     9606  \n",
       "2      MELWNFTLGSGFILVGILNDSGSPELLCATITILYLLALISNGLLL...     9606  \n",
       "3      MTSRSVCEKMTMTTENPNQTVVSHFFLEGLRYTAKHSSLFFLLFLL...     9606  \n",
       "4      MHFLSQNDLNINLIPHLCLHRHSVIAGAFTIHRHMKIFNSPSNSST...     9606  \n",
       "...                                                  ...      ...  \n",
       "20391  MHLLKVGTWRNNTASSWLMKFSVLWLVSQNCCRASVVWMAYMNISF...     9606  \n",
       "20392  MRYVASYLLAALGGNSSPSAKDIKKILDSVGIEADDDRLNKVISEL...     9606  \n",
       "20393  MEVKPPPGRPQPDSGRRRRRRGEEGHDPKEPEQLRKLFIGGLSFET...     9606  \n",
       "20394  MAQTDKPTCIPPELPKMLKEFAKAAIRAQPQDLIQWGADYFEALSR...     9606  \n",
       "20395  MALQRTHSLLLLLLLTLLGLGLVQPSYGQDGMYQRFLRQHVHPEET...     9606  \n",
       "\n",
       "[20396 rows x 5 columns]"
      ]
     },
     "execution_count": 5,
     "metadata": {},
     "output_type": "execute_result"
    }
   ],
   "source": [
    "human_df"
   ]
  },
  {
   "cell_type": "markdown",
   "id": "6e9a92f8",
   "metadata": {},
   "source": [
    "# PONDR disorder identification"
   ]
  },
  {
   "cell_type": "code",
   "execution_count": 6,
   "id": "2ae65416",
   "metadata": {},
   "outputs": [],
   "source": [
    "def pondr_disorder(cutpondr, input_df, algorithm):\n",
    "    \"\"\"\n",
    "    cutpondr: CutPONDR object\n",
    "    input_df: human_df for identify disorder/order sequences\n",
    "    algorithm : (‘VLXT’, ‘XL1_XT’, ‘CAN_XT’, ‘VL3-BA’, 'VSL2'), default ‘VLXT’, pondr algorithm for use\n",
    "    \"\"\"\n",
    "    output_df = pd.DataFrame(columns=[\"uniprot_id\", \"order_sequence\", \"disorder_sequence\", \"od_ident\"])\n",
    "    failed_list = []\n",
    "\n",
    "    t = trange(input_df.shape[0], desc=\" \", leave=True)\n",
    "    for i in t:\n",
    "        uniprot_id = input_df.loc[i][\"uniprot_id\"]\n",
    "        protein_sequence = input_df.loc[i][\"protein_sequence\"]\n",
    "\n",
    "        t.set_description(uniprot_id)\n",
    "        t.refresh()\n",
    "\n",
    "        try:\n",
    "            cutpondr.cut(sequence=protein_sequence, protein_name=\"aa\", algorithm=algorithm)\n",
    "            order_sequence = cutpondr.get_order_sequence()\n",
    "            disorder_sequence = cutpondr.get_disorder_sequence()\n",
    "            od_ident = cutpondr.get_od_ident()\n",
    "            output_df = output_df.append(\n",
    "                {\n",
    "                    \"uniprot_id\": uniprot_id,\n",
    "                    \"order_sequence\": order_sequence,\n",
    "                    \"disorder_sequence\": disorder_sequence,\n",
    "                    \"od_ident\": od_ident,\n",
    "                },\n",
    "                ignore_index=True,\n",
    "            )\n",
    "        except:\n",
    "            t.set_description(\"{} failed\".format(uniprot_id))\n",
    "            t.refresh()\n",
    "            \n",
    "            print(\"{} failed\".format(uniprot_id))\n",
    "            failed_list.append(uniprot_id)\n",
    "    return output_df, failed_list"
   ]
  },
  {
   "cell_type": "code",
   "execution_count": 3,
   "id": "4b3e3152",
   "metadata": {},
   "outputs": [],
   "source": [
    "cutpondr = CutPONDR(driver_path=chromedriver_path, show_progress_window=True)\n",
    "od_human_df, failed_human_list = pondr_disorder(cutpondr, input_df=human_df, algorithm=algorithm)\n",
    "cutpondr.close()"
   ]
  },
  {
   "cell_type": "markdown",
   "id": "7736fc04",
   "metadata": {},
   "source": [
    "# save output for further use"
   ]
  },
  {
   "cell_type": "code",
   "execution_count": 7,
   "id": "62ca99a4",
   "metadata": {},
   "outputs": [
    {
     "name": "stdout",
     "output_type": "stream",
     "text": [
      "output/pondr disorder ident/VSL2_od_human_df.pkl\n",
      "output/pondr disorder ident/VSL2_failed_human_list.pkl\n"
     ]
    }
   ],
   "source": [
    "disorder_ident_output = pondr_disorder_ident_path / \"{}_od_human_df.pkl\".format(algorithm)\n",
    "disorder_ident_failed_output = pondr_disorder_ident_path / \"{}_failed_human_list.pkl\".format(algorithm)\n",
    "\n",
    "print(disorder_ident_output)\n",
    "print(disorder_ident_failed_output)"
   ]
  },
  {
   "cell_type": "code",
   "execution_count": null,
   "id": "77877fa7",
   "metadata": {},
   "outputs": [],
   "source": [
    "od_human_df.to_pickle(disorder_ident_output)\n",
    "with open(disorder_ident_failed_output, \"wb\") as f:\n",
    "    pickle.dump(failed_human_list, f)"
   ]
  }
 ],
 "metadata": {
  "kernelspec": {
   "display_name": "Python 3 (ipykernel)",
   "language": "python",
   "name": "python3"
  },
  "language_info": {
   "codemirror_mode": {
    "name": "ipython",
    "version": 3
   },
   "file_extension": ".py",
   "mimetype": "text/x-python",
   "name": "python",
   "nbconvert_exporter": "python",
   "pygments_lexer": "ipython3",
   "version": "3.9.6"
  },
  "varInspector": {
   "cols": {
    "lenName": 16,
    "lenType": 16,
    "lenVar": 40
   },
   "kernels_config": {
    "python": {
     "delete_cmd_postfix": "",
     "delete_cmd_prefix": "del ",
     "library": "var_list.py",
     "varRefreshCmd": "print(var_dic_list())"
    },
    "r": {
     "delete_cmd_postfix": ") ",
     "delete_cmd_prefix": "rm(",
     "library": "var_list.r",
     "varRefreshCmd": "cat(var_dic_list()) "
    }
   },
   "types_to_exclude": [
    "module",
    "function",
    "builtin_function_or_method",
    "instance",
    "_Feature"
   ],
   "window_display": false
  }
 },
 "nbformat": 4,
 "nbformat_minor": 5
}
