{
 "cells": [
  {
   "cell_type": "code",
   "execution_count": 1,
   "id": "4a4b8237",
   "metadata": {},
   "outputs": [],
   "source": [
    "import pickle\n",
    "import numpy as np\n",
    "import pandas as pd\n",
    "from pathlib import Path\n",
    "from tqdm.notebook import trange\n",
    "\n",
    "from function.cutpondr import CutPONDR\n",
    "from function.utilities import get_uniprot_rawdata"
   ]
  },
  {
   "cell_type": "markdown",
   "id": "7eacb932",
   "metadata": {},
   "source": [
    "# Param"
   ]
  },
  {
   "cell_type": "code",
   "execution_count": 2,
   "id": "6db3ae6f",
   "metadata": {},
   "outputs": [],
   "source": [
    "#####CHANGE HERE#####\n",
    "algorithm = \"VSL2\"  # PONDR algorithm for use (‘VLXT’, ‘XL1_XT’, ‘CAN_XT’, ‘VL3-BA’, 'VSL2')\n",
    "chromedriver_path = Path(\"/home/wenlin/d/custom_command/chromedriver\") # chrome driver's path\n",
    "#####CHANGE HERE#####"
   ]
  },
  {
   "cell_type": "code",
   "execution_count": 3,
   "id": "e7f78e84",
   "metadata": {},
   "outputs": [],
   "source": [
    "# path for protein data downloaded from uniprot\n",
    "pondr_disorder_ident_path = Path(\"./output/pondr_disorder_ident\")"
   ]
  },
  {
   "cell_type": "markdown",
   "id": "6907c83d",
   "metadata": {},
   "source": [
    "# Load uniprot data"
   ]
  },
  {
   "cell_type": "code",
   "execution_count": 4,
   "id": "b10b2768",
   "metadata": {},
   "outputs": [],
   "source": [
    "human_uniprot_path = Path(\"./rawdata/human_uniprot.tab\")\n",
    "human_df = get_uniprot_rawdata(human_uniprot_path)\n",
    "human_df = human_df.sort_values(by=\"uniprot_id\", ignore_index=True)"
   ]
  },
  {
   "cell_type": "code",
   "execution_count": 5,
   "id": "1ec4d5a6",
   "metadata": {},
   "outputs": [
    {
     "data": {
      "text/html": [
       "<div>\n",
       "<style scoped>\n",
       "    .dataframe tbody tr th:only-of-type {\n",
       "        vertical-align: middle;\n",
       "    }\n",
       "\n",
       "    .dataframe tbody tr th {\n",
       "        vertical-align: top;\n",
       "    }\n",
       "\n",
       "    .dataframe thead th {\n",
       "        text-align: right;\n",
       "    }\n",
       "</style>\n",
       "<table border=\"1\" class=\"dataframe\">\n",
       "  <thead>\n",
       "    <tr style=\"text-align: right;\">\n",
       "      <th></th>\n",
       "      <th>uniprot_id</th>\n",
       "      <th>gene_name</th>\n",
       "      <th>protein_name</th>\n",
       "      <th>protein_sequence</th>\n",
       "      <th>taxonomy</th>\n",
       "    </tr>\n",
       "  </thead>\n",
       "  <tbody>\n",
       "    <tr>\n",
       "      <th>0</th>\n",
       "      <td>A0A024RBG1</td>\n",
       "      <td>NUDT4B</td>\n",
       "      <td>Diphosphoinositol polyphosphate phosphohydrola...</td>\n",
       "      <td>MMKFKPNQTRTYDREGFKKRAACLCFRSEQEDEVLLVSSSRYPDQW...</td>\n",
       "      <td>9606</td>\n",
       "    </tr>\n",
       "    <tr>\n",
       "      <th>1</th>\n",
       "      <td>A0A075B6H7</td>\n",
       "      <td>IGKV3-7</td>\n",
       "      <td>Probable non-functional immunoglobulin kappa v...</td>\n",
       "      <td>MEAPAQLLFLLLLWLPDTTREIVMTQSPPTLSLSPGERVTLSCRAS...</td>\n",
       "      <td>9606</td>\n",
       "    </tr>\n",
       "    <tr>\n",
       "      <th>2</th>\n",
       "      <td>A0A075B6H8</td>\n",
       "      <td>IGKV1D-42</td>\n",
       "      <td>Probable non-functional immunoglobulin kappa v...</td>\n",
       "      <td>MDMRVPAQLLGLLLLWLPGVRFDIQMTQSPSFLSASVGDRVSIICW...</td>\n",
       "      <td>9606</td>\n",
       "    </tr>\n",
       "    <tr>\n",
       "      <th>3</th>\n",
       "      <td>A0A075B6H9</td>\n",
       "      <td>IGLV4-69</td>\n",
       "      <td>Immunoglobulin lambda variable 4-69</td>\n",
       "      <td>MAWTPLLFLTLLLHCTGSLSQLVLTQSPSASASLGASVKLTCTLSS...</td>\n",
       "      <td>9606</td>\n",
       "    </tr>\n",
       "    <tr>\n",
       "      <th>4</th>\n",
       "      <td>A0A075B6I0</td>\n",
       "      <td>IGLV8-61</td>\n",
       "      <td>Immunoglobulin lambda variable 8-61</td>\n",
       "      <td>MSVPTMAWMMLLLGLLAYGSGVDSQTVVTQEPSFSVSPGGTVTLTC...</td>\n",
       "      <td>9606</td>\n",
       "    </tr>\n",
       "    <tr>\n",
       "      <th>...</th>\n",
       "      <td>...</td>\n",
       "      <td>...</td>\n",
       "      <td>...</td>\n",
       "      <td>...</td>\n",
       "      <td>...</td>\n",
       "    </tr>\n",
       "    <tr>\n",
       "      <th>20391</th>\n",
       "      <td>S4R3Y5</td>\n",
       "      <td>MTRNR2L11</td>\n",
       "      <td>Humanin-like 11 (HN11) (MT-RNR2-like protein 11)</td>\n",
       "      <td>MATRGFSCLLLVISEIDLSVKRWV</td>\n",
       "      <td>9606</td>\n",
       "    </tr>\n",
       "    <tr>\n",
       "      <th>20392</th>\n",
       "      <td>U3KPV4</td>\n",
       "      <td>A3GALT2</td>\n",
       "      <td>Alpha-1,3-galactosyltransferase 2 (EC 2.4.1.87...</td>\n",
       "      <td>MALKEGLRAWKRIFWRQILLTLGLLGLFLYGLPKFRHLEALIPMGV...</td>\n",
       "      <td>9606</td>\n",
       "    </tr>\n",
       "    <tr>\n",
       "      <th>20393</th>\n",
       "      <td>W5XKT8</td>\n",
       "      <td>SPACA6</td>\n",
       "      <td>Sperm acrosome membrane-associated protein 6 (...</td>\n",
       "      <td>MALLALASAVPSALLALAVFRVPAWACLLCFTTYSERLRICQMFVG...</td>\n",
       "      <td>9606</td>\n",
       "    </tr>\n",
       "    <tr>\n",
       "      <th>20394</th>\n",
       "      <td>W6CW81</td>\n",
       "      <td>PYDC5</td>\n",
       "      <td>Pyrin domain-containing protein 5 (Pyrin domai...</td>\n",
       "      <td>MESKYKEILLLTSLDNITDEELDRFKCFLPDEFNIATGKLHTLNST...</td>\n",
       "      <td>9606</td>\n",
       "    </tr>\n",
       "    <tr>\n",
       "      <th>20395</th>\n",
       "      <td>X6R8D5</td>\n",
       "      <td>GUCA1ANB</td>\n",
       "      <td>Putative uncharacterized protein GUCA1ANB (GUC...</td>\n",
       "      <td>MGRKEHESPSQPHMCGWEDSQKPSVPSHGPKTPSCKGVKAPHSSRP...</td>\n",
       "      <td>9606</td>\n",
       "    </tr>\n",
       "  </tbody>\n",
       "</table>\n",
       "<p>20396 rows × 5 columns</p>\n",
       "</div>"
      ],
      "text/plain": [
       "       uniprot_id  gene_name  \\\n",
       "0      A0A024RBG1     NUDT4B   \n",
       "1      A0A075B6H7    IGKV3-7   \n",
       "2      A0A075B6H8  IGKV1D-42   \n",
       "3      A0A075B6H9   IGLV4-69   \n",
       "4      A0A075B6I0   IGLV8-61   \n",
       "...           ...        ...   \n",
       "20391      S4R3Y5  MTRNR2L11   \n",
       "20392      U3KPV4    A3GALT2   \n",
       "20393      W5XKT8     SPACA6   \n",
       "20394      W6CW81      PYDC5   \n",
       "20395      X6R8D5   GUCA1ANB   \n",
       "\n",
       "                                            protein_name  \\\n",
       "0      Diphosphoinositol polyphosphate phosphohydrola...   \n",
       "1      Probable non-functional immunoglobulin kappa v...   \n",
       "2      Probable non-functional immunoglobulin kappa v...   \n",
       "3                    Immunoglobulin lambda variable 4-69   \n",
       "4                    Immunoglobulin lambda variable 8-61   \n",
       "...                                                  ...   \n",
       "20391   Humanin-like 11 (HN11) (MT-RNR2-like protein 11)   \n",
       "20392  Alpha-1,3-galactosyltransferase 2 (EC 2.4.1.87...   \n",
       "20393  Sperm acrosome membrane-associated protein 6 (...   \n",
       "20394  Pyrin domain-containing protein 5 (Pyrin domai...   \n",
       "20395  Putative uncharacterized protein GUCA1ANB (GUC...   \n",
       "\n",
       "                                        protein_sequence taxonomy  \n",
       "0      MMKFKPNQTRTYDREGFKKRAACLCFRSEQEDEVLLVSSSRYPDQW...     9606  \n",
       "1      MEAPAQLLFLLLLWLPDTTREIVMTQSPPTLSLSPGERVTLSCRAS...     9606  \n",
       "2      MDMRVPAQLLGLLLLWLPGVRFDIQMTQSPSFLSASVGDRVSIICW...     9606  \n",
       "3      MAWTPLLFLTLLLHCTGSLSQLVLTQSPSASASLGASVKLTCTLSS...     9606  \n",
       "4      MSVPTMAWMMLLLGLLAYGSGVDSQTVVTQEPSFSVSPGGTVTLTC...     9606  \n",
       "...                                                  ...      ...  \n",
       "20391                           MATRGFSCLLLVISEIDLSVKRWV     9606  \n",
       "20392  MALKEGLRAWKRIFWRQILLTLGLLGLFLYGLPKFRHLEALIPMGV...     9606  \n",
       "20393  MALLALASAVPSALLALAVFRVPAWACLLCFTTYSERLRICQMFVG...     9606  \n",
       "20394  MESKYKEILLLTSLDNITDEELDRFKCFLPDEFNIATGKLHTLNST...     9606  \n",
       "20395  MGRKEHESPSQPHMCGWEDSQKPSVPSHGPKTPSCKGVKAPHSSRP...     9606  \n",
       "\n",
       "[20396 rows x 5 columns]"
      ]
     },
     "execution_count": 5,
     "metadata": {},
     "output_type": "execute_result"
    }
   ],
   "source": [
    "human_df"
   ]
  },
  {
   "cell_type": "markdown",
   "id": "6e9a92f8",
   "metadata": {},
   "source": [
    "# PONDR disorder identification"
   ]
  },
  {
   "cell_type": "code",
   "execution_count": 6,
   "id": "2ae65416",
   "metadata": {},
   "outputs": [],
   "source": [
    "def pondr_disorder(cutpondr, input_df, algorithm):\n",
    "    \"\"\"\n",
    "    cutpondr: CutPONDR object\n",
    "    input_df: human_df for identify disorder/order sequences\n",
    "    algorithm : (‘VLXT’, ‘XL1_XT’, ‘CAN_XT’, ‘VL3-BA’, 'VSL2'), default ‘VLXT’, pondr algorithm for use\n",
    "    \"\"\"\n",
    "    output_df = pd.DataFrame(columns=[\"uniprot_id\", \"order_sequence\", \"disorder_sequence\", \"od_ident\"])\n",
    "    \n",
    "    \n",
    "    failed_list = []\n",
    "    t = trange(len(input_df), desc=\" \", leave=True)\n",
    "    for i in t:\n",
    "        uniprot_id = input_df.loc[i][\"uniprot_id\"]\n",
    "        protein_sequence = input_df.loc[i][\"protein_sequence\"]\n",
    "\n",
    "        t.set_description(uniprot_id)\n",
    "        t.refresh()\n",
    "\n",
    "        try:\n",
    "            cutpondr.cut(sequence=protein_sequence, protein_name=\"aa\", algorithm=algorithm)\n",
    "            order_sequence = cutpondr.get_order_sequence()\n",
    "            disorder_sequence = cutpondr.get_disorder_sequence()\n",
    "            od_ident = cutpondr.get_od_ident()\n",
    "            output_df = output_df.append(\n",
    "                {\n",
    "                    \"uniprot_id\": uniprot_id,\n",
    "                    \"order_sequence\": order_sequence,\n",
    "                    \"disorder_sequence\": disorder_sequence,\n",
    "                    \"od_ident\": od_ident,\n",
    "                },\n",
    "                ignore_index=True,\n",
    "            )\n",
    "        except:\n",
    "            t.set_description(\"{} failed\".format(uniprot_id))\n",
    "            t.refresh()\n",
    "            \n",
    "            print(\"{} failed\".format(uniprot_id))\n",
    "            failed_list.append(uniprot_id)\n",
    "     \n",
    "    \n",
    "    return output_df, failed_list"
   ]
  },
  {
   "cell_type": "code",
   "execution_count": 1,
   "id": "4b3e3152",
   "metadata": {},
   "outputs": [],
   "source": [
    "cutpondr = CutPONDR(driver_path=chromedriver_path, show_progress_window=True)\n",
    "od_human_df, failed_human_list = pondr_disorder(cutpondr, input_df=human_df, algorithm=algorithm)\n",
    "cutpondr.close()"
   ]
  },
  {
   "cell_type": "markdown",
   "id": "7736fc04",
   "metadata": {},
   "source": [
    "# Save output for further use"
   ]
  },
  {
   "cell_type": "code",
   "execution_count": 5,
   "id": "62ca99a4",
   "metadata": {},
   "outputs": [
    {
     "name": "stdout",
     "output_type": "stream",
     "text": [
      "output/pondr_disorder_ident/VSL2_od_human_df.pkl\n",
      "output/pondr_disorder_ident/VSL2_failed_human_list.pkl\n"
     ]
    }
   ],
   "source": [
    "disorder_ident_output = pondr_disorder_ident_path / \"{}_od_human_df.pkl\".format(algorithm)\n",
    "disorder_ident_failed_output = pondr_disorder_ident_path / \"{}_failed_human_list.pkl\".format(algorithm)\n",
    "\n",
    "print(disorder_ident_output)\n",
    "print(disorder_ident_failed_output)"
   ]
  },
  {
   "cell_type": "code",
   "execution_count": 202,
   "id": "77877fa7",
   "metadata": {},
   "outputs": [],
   "source": [
    "od_human_df.to_pickle(disorder_ident_output)\n",
    "with open(disorder_ident_failed_output, \"wb\") as f:\n",
    "    pickle.dump(failed_human_list, f)"
   ]
  },
  {
   "cell_type": "code",
   "execution_count": 6,
   "id": "27d58a7d",
   "metadata": {},
   "outputs": [],
   "source": [
    "#read\n",
    "# od_human_df = pd.read_pickle(disorder_ident_output)\n",
    "# with open(disorder_ident_failed_output, 'rb') as f:\n",
    "#     failed_human_list = pickle.load(f)"
   ]
  }
 ],
 "metadata": {
  "kernelspec": {
   "display_name": "Python 3 (ipykernel)",
   "language": "python",
   "name": "python3"
  },
  "language_info": {
   "codemirror_mode": {
    "name": "ipython",
    "version": 3
   },
   "file_extension": ".py",
   "mimetype": "text/x-python",
   "name": "python",
   "nbconvert_exporter": "python",
   "pygments_lexer": "ipython3",
   "version": "3.9.6"
  },
  "varInspector": {
   "cols": {
    "lenName": 16,
    "lenType": 16,
    "lenVar": 40
   },
   "kernels_config": {
    "python": {
     "delete_cmd_postfix": "",
     "delete_cmd_prefix": "del ",
     "library": "var_list.py",
     "varRefreshCmd": "print(var_dic_list())"
    },
    "r": {
     "delete_cmd_postfix": ") ",
     "delete_cmd_prefix": "rm(",
     "library": "var_list.r",
     "varRefreshCmd": "cat(var_dic_list()) "
    }
   },
   "types_to_exclude": [
    "module",
    "function",
    "builtin_function_or_method",
    "instance",
    "_Feature"
   ],
   "window_display": false
  }
 },
 "nbformat": 4,
 "nbformat_minor": 5
}
