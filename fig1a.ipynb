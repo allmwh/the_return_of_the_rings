{
 "cells": [
  {
   "cell_type": "code",
   "execution_count": null,
   "id": "878028a4",
   "metadata": {},
   "outputs": [],
   "source": [
    "import pickle\n",
    "import numpy as np\n",
    "import pandas as pd\n",
    "from pathlib import Path\n",
    "\n",
    "import matplotlib as mpl\n",
    "import matplotlib.pyplot as plt\n",
    "\n",
    "from function.utilities import get_subset\n",
    "from function.seqfilter import SeqFilter"
   ]
  },
  {
   "cell_type": "markdown",
   "id": "0fda535c",
   "metadata": {},
   "source": [
    "# Param"
   ]
  },
  {
   "cell_type": "code",
   "execution_count": null,
   "id": "2ecd00c1",
   "metadata": {},
   "outputs": [],
   "source": [
    "#####CHANGE HERE#####\n",
    "algorithm = \"VSL2\" #VLXT, VSL2, VL3-BA, fidpnn\n",
    "#####CHANGE HERE#####"
   ]
  },
  {
   "cell_type": "code",
   "execution_count": null,
   "id": "7264b7da",
   "metadata": {},
   "outputs": [],
   "source": [
    "protein_subset = [\"human\", \"rbp\", \"mrbp\", \"trbp\", \"snrbp\", \"snorbp\", \"ncrbp\", \"rrbp\", \"ribosomerbp\"]\n",
    "\n",
    "plot_subset = ['>=30','>=40','>=50'] #'>=20', '>=30', '>=40', '>=50', '>=60' \n",
    "\n",
    "figure_1a_path = Path('./output/fig1')\n",
    "table_s1_path = Path('./output/table_s1')"
   ]
  },
  {
   "cell_type": "markdown",
   "id": "13cf38f4",
   "metadata": {},
   "source": [
    "# Load data"
   ]
  },
  {
   "cell_type": "code",
   "execution_count": null,
   "id": "ad345b63",
   "metadata": {},
   "outputs": [],
   "source": [
    "pondr_disorder_ident_path = Path(\"./output/pondr_disorder_ident\")\n",
    "\n",
    "od_human_df = pd.read_pickle(pondr_disorder_ident_path / \"{}_od_human_df.pkl\".format(algorithm))"
   ]
  },
  {
   "cell_type": "code",
   "execution_count": null,
   "id": "298dbd2e",
   "metadata": {},
   "outputs": [],
   "source": [
    "od_human_df"
   ]
  },
  {
   "cell_type": "markdown",
   "id": "fa4ccb52",
   "metadata": {},
   "source": [
    "# Consecutive disordered stat"
   ]
  },
  {
   "cell_type": "code",
   "execution_count": null,
   "id": "84406a6a",
   "metadata": {},
   "outputs": [],
   "source": [
    "def length_filter(disorder_length, od_ident):\n",
    "    \"\"\"\n",
    "    filter disorder length longer than disorder_length\n",
    "    \n",
    "    disorder_length: int, \n",
    "    od_ident: str, order/disorder indication seq, 1 is disorder, 0 is order\n",
    "    \"\"\"\n",
    "    count = 0\n",
    "    for i in od_ident:\n",
    "        if i == \"1\":\n",
    "            count = count + 1\n",
    "            if count >= disorder_length:\n",
    "                return 1\n",
    "        else:\n",
    "            count = 0\n",
    "    return 0\n",
    "\n",
    "def make_consecutive_disorder_stat(df):\n",
    "    \n",
    "    #count sequences which disorder length are longer than condition\n",
    "    df[\">=20\"] = df[\"od_ident\"].apply(lambda x: length_filter(20, x))\n",
    "    df[\">=30\"] = df[\"od_ident\"].apply(lambda x: length_filter(30, x))\n",
    "    df[\">=40\"] = df[\"od_ident\"].apply(lambda x: length_filter(40, x))\n",
    "    df[\">=50\"] = df[\"od_ident\"].apply(lambda x: length_filter(50, x))\n",
    "    df[\">=60\"] = df[\"od_ident\"].apply(lambda x: length_filter(60, x))\n",
    "\n",
    "    b20 = df[\">=20\"].value_counts()[1] / len(df)\n",
    "    b30 = df[\">=30\"].value_counts()[1] / len(df)\n",
    "    b40 = df[\">=40\"].value_counts()[1] / len(df)\n",
    "    b50 = df[\">=50\"].value_counts()[1] / len(df)\n",
    "    b60 = df[\">=60\"].value_counts()[1] / len(df)\n",
    "\n",
    "    b20 = round(b20 * 100, 1)\n",
    "    b30 = round(b30 * 100, 1)\n",
    "    b40 = round(b40 * 100, 1)\n",
    "    b50 = round(b50 * 100, 1)\n",
    "    b60 = round(b60 * 100, 1)\n",
    "\n",
    "    return {\">=20\": b20,\n",
    "            \">=30\": b30, \n",
    "            \">=40\": b40, \n",
    "            \">=50\": b50,\n",
    "            \">=60\": b60,}"
   ]
  },
  {
   "cell_type": "code",
   "execution_count": null,
   "id": "a2fcf94e",
   "metadata": {},
   "outputs": [],
   "source": [
    "output = {}\n",
    "for i in protein_subset:\n",
    "    od_subset_df = get_subset(od_human_df, i)\n",
    "    od_stat = make_consecutive_disorder_stat(od_subset_df)\n",
    "    \n",
    "    output['algorithm'] = algorithm\n",
    "    output[i] = {\"subset\":i,\n",
    "                 \"nums\": len(od_subset_df),\n",
    "                 \"stat\":od_stat}"
   ]
  },
  {
   "cell_type": "code",
   "execution_count": null,
   "id": "9c9f365f",
   "metadata": {},
   "outputs": [],
   "source": [
    "#PLOT BATCH\n",
    "def plot(subset, subplot):\n",
    "    \n",
    "    plot_data = [output[subset]['stat'][x] for x in plot_subset]\n",
    "    \n",
    "    \n",
    "    subplot.bar(X, plot_data, width=0.75, tick_label=plot_subset, color=\"white\", hatch=\"//\", linewidth=2, edgecolor=\"#48c776\")\n",
    "    for x, y in zip(X,plot_data):\n",
    "        subplot.text(x-0.13, y+1.5, \"{}%\".format(str(round(y))),fontsize=10)\n",
    "    \n",
    "#     subplot.set_title(\"{} nums:{}\".format(output[subset]['subset'], output[subset]['nums']))\n",
    "    subplot.set_ylim(15,100)\n",
    "    subplot.tick_params(which='major', axis=\"x\",direction=\"in\", length=0)\n",
    "    subplot.tick_params(which='minor', axis=\"x\",direction=\"in\", length=0)\n",
    "    subplot.tick_params(which='major', axis=\"y\",direction=\"in\", length=2)\n",
    "    subplot.tick_params(which='minor', axis=\"y\",direction=\"in\", length=2)\n",
    "    subplot.axes.xaxis.set_ticklabels([])\n",
    "    yticks = subplot.axes.yaxis.get_major_ticks()\n",
    "    yticks[-1].label.set_visible(False)\n",
    "\n",
    "    \n",
    "mpl.rcParams[\"hatch.linewidth\"] = 2\n",
    "f, ((a0, a1, a2), (a3, a4, a5), (a6, a7, a8)) = plt.subplots(3, 3, sharex=True, sharey=True, figsize=(10, 12), dpi=200)\n",
    "\n",
    "X = np.arange(0, len(plot_subset))\n",
    "\n",
    "for subset, subplot in zip(protein_subset,[a0,a1,a2,a3,a4,a5,a6,a7,a8]):\n",
    "    plot(subset, subplot)\n",
    "\n",
    "plt.tight_layout()\n",
    "plt.subplots_adjust(wspace=0.05, hspace=0.05)\n",
    "\n",
    "output_path = figure_1a_path / \"fig1a_{}.svg\".format(algorithm)\n",
    "f.savefig(output_path)"
   ]
  }
 ],
 "metadata": {
  "kernelspec": {
   "display_name": "Python 3 (ipykernel)",
   "language": "python",
   "name": "python3"
  },
  "language_info": {
   "codemirror_mode": {
    "name": "ipython",
    "version": 3
   },
   "file_extension": ".py",
   "mimetype": "text/x-python",
   "name": "python",
   "nbconvert_exporter": "python",
   "pygments_lexer": "ipython3",
   "version": "3.9.6"
  },
  "varInspector": {
   "cols": {
    "lenName": 16,
    "lenType": 16,
    "lenVar": 40
   },
   "kernels_config": {
    "python": {
     "delete_cmd_postfix": "",
     "delete_cmd_prefix": "del ",
     "library": "var_list.py",
     "varRefreshCmd": "print(var_dic_list())"
    },
    "r": {
     "delete_cmd_postfix": ") ",
     "delete_cmd_prefix": "rm(",
     "library": "var_list.r",
     "varRefreshCmd": "cat(var_dic_list()) "
    }
   },
   "types_to_exclude": [
    "module",
    "function",
    "builtin_function_or_method",
    "instance",
    "_Feature"
   ],
   "window_display": false
  }
 },
 "nbformat": 4,
 "nbformat_minor": 5
}
