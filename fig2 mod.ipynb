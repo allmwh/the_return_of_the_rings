{
 "cells": [
  {
   "cell_type": "code",
   "execution_count": 6,
   "id": "eb1f703f",
   "metadata": {},
   "outputs": [],
   "source": [
    "import pickle\n",
    "import numpy as np\n",
    "from pathlib import Path\n",
    "\n",
    "from tqdm.notebook import trange"
   ]
  },
  {
   "cell_type": "code",
   "execution_count": 2,
   "id": "da7c2f4b",
   "metadata": {},
   "outputs": [
    {
     "ename": "NameError",
     "evalue": "name 'Path' is not defined",
     "output_type": "error",
     "traceback": [
      "\u001b[0;31m---------------------------------------------------------------------------\u001b[0m",
      "\u001b[0;31mNameError\u001b[0m                                 Traceback (most recent call last)",
      "\u001b[0;32m/tmp/ipykernel_52187/1343138489.py\u001b[0m in \u001b[0;36m<module>\u001b[0;34m\u001b[0m\n\u001b[0;32m----> 1\u001b[0;31m \u001b[0mres_path\u001b[0m \u001b[0;34m=\u001b[0m \u001b[0mPath\u001b[0m\u001b[0;34m(\u001b[0m\u001b[0;34m'/home/wenlin/tmp/tmp.res'\u001b[0m\u001b[0;34m)\u001b[0m\u001b[0;34m\u001b[0m\u001b[0;34m\u001b[0m\u001b[0m\n\u001b[0m\u001b[1;32m      2\u001b[0m \u001b[0mfasta_path\u001b[0m \u001b[0;34m=\u001b[0m \u001b[0mPath\u001b[0m\u001b[0;34m(\u001b[0m\u001b[0;34m'/home/wenlin/tmp/Q13148.fasta'\u001b[0m\u001b[0;34m)\u001b[0m\u001b[0;34m\u001b[0m\u001b[0;34m\u001b[0m\u001b[0m\n",
      "\u001b[0;31mNameError\u001b[0m: name 'Path' is not defined"
     ]
    }
   ],
   "source": [
    "res_path = Path('/home/wenlin/tmp/tmp.res')\n",
    "fasta_path = Path('/home/wenlin/tmp/Q13148.fasta')"
   ]
  },
  {
   "cell_type": "code",
   "execution_count": 28,
   "id": "df2fe454",
   "metadata": {},
   "outputs": [],
   "source": [
    "r4s = Rate4Site()"
   ]
  },
  {
   "cell_type": "code",
   "execution_count": 3,
   "id": "0a7e7198",
   "metadata": {},
   "outputs": [],
   "source": [
    "import subprocess\n",
    "import pandas as pd\n",
    "from pathlib import Path\n",
    "class Rate4Site():\n",
    "    def __init__(self, work_path = '/home/wenlin/tmp'):\n",
    "        \n",
    "        work_path = Path(work_path)\n",
    "        self.work_path = work_path\n",
    "        \n",
    "        self.res_path = work_path / \"tmp.res\"\n",
    "        \n",
    "        \n",
    "    \n",
    "    def get_conserve_score(self, fasta_path):\n",
    "        \n",
    "        #run rate4site\n",
    "        self.run_rate4site(fasta_path, self.res_path)\n",
    "        \n",
    "        #parse_res_file\n",
    "        conserve_score = self.parse_res_file(self.res_path)\n",
    "        \n",
    "        return conserve_score\n",
    "        \n",
    "    def run_rate4site(self, fasta_path,res_path):\n",
    "        fasta_path = str(fasta_path)\n",
    "        res_path = str(res_path)\n",
    "        \n",
    "        #change_dir \n",
    "        process = subprocess.Popen(['rate4site', '-s', fasta_path, '-o', res_path],\n",
    "                                    cwd = self.work_path,\n",
    "                                    stdout = subprocess.PIPE, \n",
    "                                    stderr = subprocess.PIPE)\n",
    "        _, _ = process.communicate()\n",
    "        \n",
    "    def parse_res_file(self, res_path):\n",
    "        df = pd.read_csv(res_path,skiprows=[0,1,2,3,4,5,6,7,8,9,10,11,12], \n",
    "                 delim_whitespace=True, \n",
    "                 skipfooter=2, \n",
    "                 header=None,\n",
    "                 engine='python')\n",
    "        return df[2].to_list()"
   ]
  },
  {
   "cell_type": "code",
   "execution_count": 3,
   "id": "9bd070b4",
   "metadata": {},
   "outputs": [
    {
     "data": {
      "text/plain": [
       "'Q13148'"
      ]
     },
     "execution_count": 3,
     "metadata": {},
     "output_type": "execute_result"
    }
   ],
   "source": [
    "get_uniprot_id_from_fasta('/home/wenlin/tmp/Q13148.fasta')"
   ]
  },
  {
   "cell_type": "code",
   "execution_count": 2,
   "id": "5a9663fd",
   "metadata": {},
   "outputs": [],
   "source": [
    "from function.utilities import fasta_to_seqlist\n",
    "from function.utilities import get_uniprot_id_from_fasta"
   ]
  },
  {
   "cell_type": "code",
   "execution_count": 7,
   "id": "212ae34d",
   "metadata": {},
   "outputs": [],
   "source": [
    "def find_human_sequence(path):\n",
    "    \"\"\"\n",
    "    find human sequence from paralogs fasta file\n",
    "    \"\"\"\n",
    "\n",
    "    path = Path(path)\n",
    "    all_sequence_list = fasta_to_seqlist(path)\n",
    "    uniprot_id = get_uniprot_id_from_fasta(path)\n",
    "\n",
    "    for i in all_sequence_list:\n",
    "        tax_id = i.description.split(\"|\")[2]\n",
    "        if int(tax_id) == 9606:\n",
    "            sequence = str(i.seq)\n",
    "            return i\n"
   ]
  },
  {
   "cell_type": "code",
   "execution_count": 10,
   "id": "2b30d74c",
   "metadata": {},
   "outputs": [],
   "source": [
    "ii = find_human_sequence('/home/wenlin/tmp/Q13148.fasta')"
   ]
  },
  {
   "cell_type": "code",
   "execution_count": 12,
   "id": "884684db",
   "metadata": {},
   "outputs": [
    {
     "data": {
      "text/plain": [
       "'HUMAN47411 | Homo sapiens | 9606 | TADBP_HUMAN'"
      ]
     },
     "execution_count": 12,
     "metadata": {},
     "output_type": "execute_result"
    }
   ],
   "source": [
    "ii.description"
   ]
  },
  {
   "cell_type": "code",
   "execution_count": 13,
   "id": "bea7d70b",
   "metadata": {},
   "outputs": [],
   "source": [
    "from sklearn import preprocessing"
   ]
  },
  {
   "cell_type": "code",
   "execution_count": null,
   "id": "996e564a",
   "metadata": {},
   "outputs": [],
   "source": [
    "preprocessing."
   ]
  }
 ],
 "metadata": {
  "kernelspec": {
   "display_name": "Python 3 (ipykernel)",
   "language": "python",
   "name": "python3"
  },
  "language_info": {
   "codemirror_mode": {
    "name": "ipython",
    "version": 3
   },
   "file_extension": ".py",
   "mimetype": "text/x-python",
   "name": "python",
   "nbconvert_exporter": "python",
   "pygments_lexer": "ipython3",
   "version": "3.9.6"
  },
  "varInspector": {
   "cols": {
    "lenName": 16,
    "lenType": 16,
    "lenVar": 40
   },
   "kernels_config": {
    "python": {
     "delete_cmd_postfix": "",
     "delete_cmd_prefix": "del ",
     "library": "var_list.py",
     "varRefreshCmd": "print(var_dic_list())"
    },
    "r": {
     "delete_cmd_postfix": ") ",
     "delete_cmd_prefix": "rm(",
     "library": "var_list.r",
     "varRefreshCmd": "cat(var_dic_list()) "
    }
   },
   "types_to_exclude": [
    "module",
    "function",
    "builtin_function_or_method",
    "instance",
    "_Feature"
   ],
   "window_display": false
  }
 },
 "nbformat": 4,
 "nbformat_minor": 5
}
