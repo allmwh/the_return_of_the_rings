{
 "cells": [
  {
   "cell_type": "code",
   "execution_count": 10,
   "id": "9262235f",
   "metadata": {},
   "outputs": [],
   "source": [
    "import numpy as np\n",
    "import pandas as pd\n",
    "import pickle\n",
    "from pathlib import Path\n",
    "from tqdm.notebook import trange\n",
    "\n",
    "import matplotlib.pyplot as plt\n",
    "import matplotlib as mpl\n",
    "\n",
    "from function.conserve import Entropy\n",
    "from function.seqfilter import SeqFilter\n",
    "from function.utilities import find_human_sequence"
   ]
  },
  {
   "cell_type": "markdown",
   "id": "5cf5a4c8",
   "metadata": {},
   "source": [
    "# param"
   ]
  },
  {
   "cell_type": "code",
   "execution_count": 11,
   "id": "54ba3650",
   "metadata": {},
   "outputs": [],
   "source": [
    "#####CHANGE HERE#####\n",
    "uniprot_id = 'Q13148'\n",
    "algorithm = 'VLXT'\n",
    "#####CHANGE HERE#####"
   ]
  },
  {
   "cell_type": "code",
   "execution_count": 12,
   "id": "eb39f28b",
   "metadata": {},
   "outputs": [],
   "source": [
    "tax_ids = [7711,7742,32523,40674]\n",
    "\n",
    "input_path = Path(\"./output/extre_filtered_fasta\")\n",
    "\n",
    "disorder_filter_length = 40\n",
    "order_filter_length = 10\n",
    "\n",
    "pondr_disorder_ident_path = Path(\"./output/pondr_disorder_ident\")\n",
    "od_human_df = pd.read_pickle(pondr_disorder_ident_path/'{}_od_human_df.pkl'.format(algorithm))"
   ]
  },
  {
   "cell_type": "markdown",
   "id": "5fff4056",
   "metadata": {},
   "source": [
    "# conservation level"
   ]
  },
  {
   "cell_type": "code",
   "execution_count": 13,
   "id": "10e9950d",
   "metadata": {},
   "outputs": [],
   "source": [
    "def get_only_human_score(score,fasta_path):\n",
    "    '''\n",
    "    只拿human有的分數，gap都不拿\n",
    "    \n",
    "    score: entropy.alied_entropy做的分數\n",
    "    fasta_path: path\n",
    "    '''\n",
    "    nogap_score = []\n",
    "    nogap = np.array(list(find_human_sequence(fasta_path))) != '-'\n",
    "    nogap_index = np.where(nogap)[0].tolist()\n",
    "    for index in nogap_index:\n",
    "        nogap_score.append(score[index])    \n",
    "    return nogap_score"
   ]
  },
  {
   "cell_type": "code",
   "execution_count": 42,
   "id": "bec9d469",
   "metadata": {},
   "outputs": [],
   "source": [
    "def get_score_odregion_human_nogap(taxid,\n",
    "                                   uniprot_id):\n",
    "\n",
    "    #read fasta\n",
    "    fasta_path = input_path / str(taxid) /\"{}.fasta\".format(uniprot_id)\n",
    "    \n",
    "    #get score\n",
    "    conserve_score = entropy.alied_entropy(fasta_path)\n",
    "    print(conserve_score)\n",
    "    \n",
    "    #only_nogap_index\n",
    "    conserve_score = get_only_human_score(conserve_score,fasta_path)\n",
    "    print(conserve_score)\n",
    "    \n",
    "    #get order/disorder region\n",
    "    od_ident = od_human_df[od_human_df['uniprot_id'] == uniprot_id]['od_ident'].values[0] #拿到od序列\n",
    "    print(len(od_ident))\n",
    "    od_ident = seqfilter.length_filter_by_od_ident(od_ident,disorder_filter_length,order_filter_length) #篩長度\n",
    "    \n",
    "    #score and od_ident length err exception\n",
    "    #因為oma資料庫的關係，名字一樣，長度會不一樣\n",
    "    if len(conserve_score) != len(od_ident):\n",
    "        print(\"{} ENTROPY LENGTH IS NOT EQUAL WITH OD_IODENT\".format(uniprot_id))\n",
    "        raise Exception(\"error\")\n",
    "    \n",
    "    #human_sequence, remove gap\n",
    "    human_sequence = find_human_sequence(fasta_path)\n",
    "    human_sequence = human_sequence.replace('-','')\n",
    "    \n",
    "    #get region after remove gap\n",
    "    region = seqfilter.get_od_index(od_ident)\n",
    "    \n",
    "    \n",
    "    #get info\n",
    "    taxonomy = get_taxid_dict()[taxid]\n",
    "    protein_name = get_protein_name(uniprot_id)['protein_name']\n",
    "    gene_name = get_protein_name(uniprot_id)['gene_name']\n",
    "    \n",
    "    return {\"uniprot_id\":uniprot_id,\n",
    "            \"taxonomy\":taxonomy,\n",
    "            \"score\":conserve_score,\n",
    "            \"od_ident\":od_ident,\n",
    "            \"human_sequence\":human_sequence,\n",
    "            \"region\":region}"
   ]
  },
  {
   "cell_type": "code",
   "execution_count": 43,
   "id": "1aff670c",
   "metadata": {},
   "outputs": [],
   "source": [
    "entropy = Entropy()\n",
    "seqfilter = SeqFilter()"
   ]
  },
  {
   "cell_type": "code",
   "execution_count": 44,
   "id": "d9cfdd4a",
   "metadata": {},
   "outputs": [
    {
     "name": "stdout",
     "output_type": "stream",
     "text": [
      "[0.012, 0.012, 0.012, 0.012, 0.012, 0.012, 0.012, 0.012, 0.012, 0.012, 0.012, 0.012, 0.012, 0.012, 0.012, 0.012, 0.012, 0.174, 0.753, 0.783, 0.755, 1.0, 0.949, 0.979, 0.979, 0.829, 0.958, 0.865, 1.0, 1.0, 0.824, 0.012, 1.0, 1.0, 0.835, 1.0, 0.979, 1.0, 0.958, 1.0, 0.979, 0.979, 1.0, 1.0, 0.958, 0.958, 1.0, 1.0, 0.979, 0.979, 0.809, 1.0, 1.0, 1.0, 1.0, 1.0, 1.0, 1.0, 1.0, 1.0, 0.963, 0.858, 1.0, 0.852, 0.979, 0.963, 0.901, 0.979, 0.963, 1.0, 1.0, 1.0, 0.979, 0.979, 0.979, 0.979, 0.963, 1.0, 0.872, 1.0, 0.979, 0.926, 1.0, 0.788, 0.012, 0.012, 0.757, 0.937, 1.0, 0.979, 0.979, 0.823, 0.921, 0.963, 0.937, 1.0, 0.963, 0.963, 1.0, 1.0, 0.884, 0.063, 0.071, 0.023, 0.023, 0.012, 0.012, 0.012, 0.023, 0.044, 0.054, 0.055, 1.0, 0.979, 1.0, 1.0, 0.979, 0.895, 0.958, 0.756, 0.958, 0.937, 0.907, 0.979, 0.925, 0.942, 0.958, 0.74, 0.958, 0.946, 0.791, 0.809, 0.801, 1.0, 0.942, 0.979, 0.979, 0.979, 0.979, 0.967, 0.967, 0.967, 0.967, 0.979, 0.979, 0.958, 0.958, 0.905, 0.979, 0.958, 0.979, 0.979, 0.958, 0.774, 0.979, 0.979, 0.937, 0.937, 0.942, 0.979, 0.979, 0.979, 0.81, 1.0, 0.979, 0.958, 0.963, 1.0, 0.846, 0.963, 0.559, 0.928, 0.979, 1.0, 0.805, 1.0, 0.979, 1.0, 0.979, 1.0, 1.0, 0.979, 1.0, 1.0, 0.907, 0.82, 0.979, 0.963, 0.82, 1.0, 0.803, 0.979, 0.979, 0.865, 0.942, 1.0, 1.0, 1.0, 0.979, 0.979, 0.979, 0.979, 1.0, 1.0, 1.0, 1.0, 0.963, 1.0, 0.926, 1.0, 0.963, 1.0, 1.0, 0.034, 0.034, 0.034, 0.875, 0.794, 0.696, 0.937, 0.937, 0.979, 0.906, 0.937, 1.0, 0.979, 1.0, 0.979, 0.979, 0.937, 0.979, 0.979, 0.946, 0.967, 0.894, 0.946, 0.946, 0.894, 0.66, 0.845, 0.865, 0.958, 0.865, 0.824, 0.942, 0.979, 0.526, 0.979, 0.942, 0.979, 0.858, 1.0, 0.646, 1.0, 1.0, 0.979, 1.0, 1.0, 0.937, 1.0, 1.0, 1.0, 1.0, 1.0, 1.0, 1.0, 1.0, 0.963, 1.0, 0.937, 1.0, 0.958, 0.921, 0.012, 0.012, 0.012, 0.825, 1.0, 0.926, 0.942, 1.0, 0.979, 1.0, 0.979, 1.0, 0.963, 0.979, 1.0, 0.979, 1.0, 0.789, 1.0, 0.979, 0.979, 0.949, 0.979, 0.949, 1.0, 0.979, 1.0, 0.979, 0.979, 0.771, 0.805, 0.576, 0.937, 0.958, 0.754, 0.075, 0.847, 0.958, 0.642, 0.858, 0.979, 0.979, 0.949, 0.805, 0.65, 0.796, 0.799, 0.979, 0.664, 0.664, 0.631, 0.718, 0.816, 0.852, 0.921, 0.9, 0.803, 0.833, 0.875, 0.012, 0.012, 0.012, 0.012, 0.012, 0.012, 0.012, 0.816, 0.653, 0.666, 0.556, 0.023, 0.905, 0.928, 1.0, 0.824, 0.823, 0.023, 0.012, 0.012, 0.012, 0.023, 0.751, 0.762, 0.8, 0.867, 0.855, 0.68, 0.716, 0.044, 0.044, 0.012, 0.012, 0.012, 0.012, 0.012, 0.012, 0.012, 0.705, 0.804, 0.963, 0.958, 1.0, 0.798, 0.958, 0.9, 0.838, 1.0, 1.0, 1.0, 0.979, 0.958, 1.0, 1.0, 1.0, 0.967, 0.967, 0.967, 0.967, 0.958, 0.958, 1.0, 1.0, 0.979, 0.979, 1.0, 0.012, 0.012, 0.979, 1.0, 0.979, 0.979, 0.921, 0.979, 0.915, 0.743, 0.836, 0.86, 0.153, 0.79, 0.771, 0.819, 0.688, 0.638, 0.708, 0.746, 0.698, 0.842, 0.012, 0.808, 0.795, 0.739, 0.768, 0.946, 0.012, 0.801, 0.697, 0.713, 0.899, 0.621, 0.876, 0.729, 0.801, 0.889, 0.884, 0.775, 0.764, 0.925, 0.697, 0.708, 0.825, 0.601, 0.62, 0.789, 0.853, 0.763, 0.794, 0.979, 1.0, 0.979, 0.796, 0.75, 0.886, 0.858, 0.722, 0.766, 0.761, 0.744, 0.135, 0.921, 0.958, 0.958, 0.824, 0.023, 0.012, 0.012, 0.012, 0.012, 0.012, 0.012, 0.012, 0.023, 0.808, 0.91, 0.946, 0.91, 0.946, 0.891, 0.925, 0.785, 0.958, 0.979, 0.921, 0.979, 0.958, 1.0, 0.979, 0.946, nan, nan, nan, nan, nan, nan, nan, nan, nan, nan, nan, nan, nan, nan, nan, nan, nan, nan, nan, nan, nan, nan, nan, nan, nan, nan, nan, nan, nan, nan, nan, nan, nan, nan, nan, nan, nan, nan, nan, nan, nan, nan, nan, nan, nan, nan, nan, nan, nan, nan, nan, nan, nan, nan, nan, nan, nan, nan, nan, nan, nan]\n",
      "[0.012, 0.012]\n",
      "414\n",
      "Q13148 ENTROPY LENGTH IS NOT EQUAL WITH OD_IODENT\n"
     ]
    },
    {
     "ename": "Exception",
     "evalue": "error",
     "output_type": "error",
     "traceback": [
      "\u001b[0;31m---------------------------------------------------------------------------\u001b[0m",
      "\u001b[0;31mException\u001b[0m                                 Traceback (most recent call last)",
      "\u001b[0;32m/tmp/ipykernel_975592/181991855.py\u001b[0m in \u001b[0;36m<module>\u001b[0;34m\u001b[0m\n\u001b[0;32m----> 1\u001b[0;31m \u001b[0mget_score_odregion_human_nogap\u001b[0m\u001b[0;34m(\u001b[0m\u001b[0;36m7711\u001b[0m\u001b[0;34m,\u001b[0m\u001b[0;34m\"Q13148\"\u001b[0m\u001b[0;34m)\u001b[0m\u001b[0;34m\u001b[0m\u001b[0;34m\u001b[0m\u001b[0m\n\u001b[0m",
      "\u001b[0;32m/tmp/ipykernel_975592/161999567.py\u001b[0m in \u001b[0;36mget_score_odregion_human_nogap\u001b[0;34m(taxid, uniprot_id)\u001b[0m\n\u001b[1;32m     22\u001b[0m     \u001b[0;32mif\u001b[0m \u001b[0mlen\u001b[0m\u001b[0;34m(\u001b[0m\u001b[0mconserve_score\u001b[0m\u001b[0;34m)\u001b[0m \u001b[0;34m!=\u001b[0m \u001b[0mlen\u001b[0m\u001b[0;34m(\u001b[0m\u001b[0mod_ident\u001b[0m\u001b[0;34m)\u001b[0m\u001b[0;34m:\u001b[0m\u001b[0;34m\u001b[0m\u001b[0;34m\u001b[0m\u001b[0m\n\u001b[1;32m     23\u001b[0m         \u001b[0mprint\u001b[0m\u001b[0;34m(\u001b[0m\u001b[0;34m\"{} ENTROPY LENGTH IS NOT EQUAL WITH OD_IODENT\"\u001b[0m\u001b[0;34m.\u001b[0m\u001b[0mformat\u001b[0m\u001b[0;34m(\u001b[0m\u001b[0muniprot_id\u001b[0m\u001b[0;34m)\u001b[0m\u001b[0;34m)\u001b[0m\u001b[0;34m\u001b[0m\u001b[0;34m\u001b[0m\u001b[0m\n\u001b[0;32m---> 24\u001b[0;31m         \u001b[0;32mraise\u001b[0m \u001b[0mException\u001b[0m\u001b[0;34m(\u001b[0m\u001b[0;34m\"error\"\u001b[0m\u001b[0;34m)\u001b[0m\u001b[0;34m\u001b[0m\u001b[0;34m\u001b[0m\u001b[0m\n\u001b[0m\u001b[1;32m     25\u001b[0m \u001b[0;34m\u001b[0m\u001b[0m\n\u001b[1;32m     26\u001b[0m     \u001b[0;31m#human_sequence, remove gap\u001b[0m\u001b[0;34m\u001b[0m\u001b[0;34m\u001b[0m\u001b[0;34m\u001b[0m\u001b[0m\n",
      "\u001b[0;31mException\u001b[0m: error"
     ]
    }
   ],
   "source": [
    "get_score_odregion_human_nogap(7711,\"Q13148\")"
   ]
  },
  {
   "cell_type": "code",
   "execution_count": null,
   "id": "0616433a",
   "metadata": {},
   "outputs": [],
   "source": []
  }
 ],
 "metadata": {
  "kernelspec": {
   "display_name": "Python 3 (ipykernel)",
   "language": "python",
   "name": "python3"
  },
  "language_info": {
   "codemirror_mode": {
    "name": "ipython",
    "version": 3
   },
   "file_extension": ".py",
   "mimetype": "text/x-python",
   "name": "python",
   "nbconvert_exporter": "python",
   "pygments_lexer": "ipython3",
   "version": "3.9.6"
  },
  "varInspector": {
   "cols": {
    "lenName": 16,
    "lenType": 16,
    "lenVar": 40
   },
   "kernels_config": {
    "python": {
     "delete_cmd_postfix": "",
     "delete_cmd_prefix": "del ",
     "library": "var_list.py",
     "varRefreshCmd": "print(var_dic_list())"
    },
    "r": {
     "delete_cmd_postfix": ") ",
     "delete_cmd_prefix": "rm(",
     "library": "var_list.r",
     "varRefreshCmd": "cat(var_dic_list()) "
    }
   },
   "types_to_exclude": [
    "module",
    "function",
    "builtin_function_or_method",
    "instance",
    "_Feature"
   ],
   "window_display": false
  }
 },
 "nbformat": 4,
 "nbformat_minor": 5
}
