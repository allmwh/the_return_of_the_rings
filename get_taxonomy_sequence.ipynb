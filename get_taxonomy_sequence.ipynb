{
 "cells": [
  {
   "cell_type": "code",
   "execution_count": null,
   "id": "03591971",
   "metadata": {},
   "outputs": [],
   "source": [
    "import pickle\n",
    "import numpy as np\n",
    "import pandas as pd\n",
    "from pathlib import Path\n",
    "from tqdm.notebook import trange\n",
    "\n",
    "import matplotlib as mpl\n",
    "import matplotlib.pyplot as plt\n",
    "\n",
    "from function.omaseq import TaxSeqFilter\n",
    "from function.alignment import Alignment\n",
    "from function.utilities import get_subset\n",
    "from function.seqfilter import FastaExtreFilter\n",
    "from function.omaseq import FetchOmaSeqBatch"
   ]
  },
  {
   "cell_type": "markdown",
   "id": "025f2388",
   "metadata": {},
   "source": [
    "# Param"
   ]
  },
  {
   "cell_type": "code",
   "execution_count": null,
   "id": "588bf305",
   "metadata": {},
   "outputs": [],
   "source": [
    "#####CHANGE HERE#####\n",
    "uniprot_id = \"Q13148\"\n",
    "#####CHANGE HERE#####"
   ]
  },
  {
   "cell_type": "code",
   "execution_count": null,
   "id": "f8b22458",
   "metadata": {},
   "outputs": [],
   "source": [
    "#see tax\n",
    "tax_ids = [7711, 7742, 32523, 40674] #chordata, vertebrata, tetrapoda, mammalia\n",
    "\n",
    "#Extre filter param\n",
    "gap_filter_num = 20\n",
    "max_filter_seq = 3\n",
    "\n",
    "#path\n",
    "oma_path = Path(\"./output/fasta/a_oma\")\n",
    "grouped_path = Path(\"./output/fasta/b_grouped\")\n",
    "alied_path = Path(\"./output/fasta/c_alied\")\n",
    "extre_filtered_path = Path(\"./output/fasta/d_extre_filtered\")"
   ]
  },
  {
   "cell_type": "markdown",
   "id": "bc71b1ba",
   "metadata": {},
   "source": [
    "# Fetch oma seqence"
   ]
  },
  {
   "cell_type": "code",
   "execution_count": null,
   "id": "093f7071",
   "metadata": {
    "scrolled": true
   },
   "outputs": [],
   "source": [
    "#get paralogs by uniprot id from OMA, \n",
    "#https://omabrowser.org/oma/home/\n",
    "fetchomaseq = FetchOmaSeqBatch()\n",
    "fetchomaseq.get_oma_seq(uniprot_id, oma_path)"
   ]
  },
  {
   "cell_type": "markdown",
   "id": "0332a850",
   "metadata": {},
   "source": [
    "# Group by taxonomy id"
   ]
  },
  {
   "cell_type": "code",
   "execution_count": null,
   "id": "3222ec6c",
   "metadata": {},
   "outputs": [],
   "source": [
    "#filter paralogs by taxonomy id\n",
    "t = trange(len(tax_ids), leave=True)\n",
    "for i in t:\n",
    "    t.set_description(str(tax_ids[i]))\n",
    "    t.refresh()\n",
    "\n",
    "    oma_fasta_path = oma_path / \"{}.fasta\".format(uniprot_id)\n",
    "\n",
    "    grouped_tax_path = grouped_path / str(tax_ids[i])\n",
    "    grouped_tax_path.mkdir(parents=True, exist_ok=True)\n",
    "    grouped_fasta_path = grouped_tax_path / \"{}.fasta\".format(uniprot_id)\n",
    "\n",
    "    taxfilter = TaxSeqFilter(tax_ids[i])\n",
    "    taxfilter.taxfilter(oma_fasta_path, grouped_fasta_path)"
   ]
  },
  {
   "cell_type": "markdown",
   "id": "49605bbc",
   "metadata": {},
   "source": [
    "# Alignment"
   ]
  },
  {
   "cell_type": "code",
   "execution_count": null,
   "id": "c081ec36",
   "metadata": {},
   "outputs": [],
   "source": [
    "#alignment Biopython ClustalOmegaCommandline\n",
    "#please install ClustalOmega: http://www.clustal.org/omega/\n",
    "alignment = Alignment()\n",
    "t = trange(len(tax_ids), leave=True)\n",
    "for i in t:\n",
    "    t.set_description(str(tax_ids[i]))\n",
    "    t.refresh()\n",
    "\n",
    "    grouped_tax_path = grouped_path / str(tax_ids[i])\n",
    "    grouped_fasta_path = grouped_tax_path / \"{}.fasta\".format(uniprot_id)\n",
    "\n",
    "    alied_tax_path = alied_path / str(tax_ids[i])\n",
    "    alied_tax_path.mkdir(parents=True, exist_ok=True)\n",
    "    alied_fasta_path = alied_tax_path / \"{}.fasta\".format(uniprot_id)\n",
    "\n",
    "    alignment.alignment_single(grouped_fasta_path, alied_fasta_path)"
   ]
  },
  {
   "cell_type": "markdown",
   "id": "1848d3cc",
   "metadata": {},
   "source": [
    "# Extre filter"
   ]
  },
  {
   "cell_type": "code",
   "execution_count": null,
   "id": "5d954727",
   "metadata": {},
   "outputs": [],
   "source": [
    "#filter some homologous, \n",
    "#i.e. some sequences in homologous have very long gap in alied fasta file, \n",
    "#while other sequences do not have gap, this is \"special\", and remove it\n",
    "fastaextrefilter = FastaExtreFilter()\n",
    "t = trange(len(tax_ids), leave=True)\n",
    "for i in t:\n",
    "    t.set_description(str(tax_ids[i]))\n",
    "    t.refresh()\n",
    "\n",
    "    alied_tax_path = alied_path / str(tax_ids[i])\n",
    "    alied_fasta_path = alied_tax_path / \"{}.fasta\".format(uniprot_id)\n",
    "\n",
    "    extre_filtered_tax_path = extre_filtered_path / str(tax_ids[i])\n",
    "    extre_filtered_tax_path.mkdir(parents=True, exist_ok=True)\n",
    "    extre_filtered_tax_fasta_path = extre_filtered_tax_path / \"{}.fasta\".format(uniprot_id)\n",
    "\n",
    "    extre_index = fastaextrefilter.fasta_extre_filter(alied_fasta_path,\n",
    "                                                      extre_filtered_tax_fasta_path,\n",
    "                                                      gap_filter_num=gap_filter_num,\n",
    "                                                      max_filter_seq=max_filter_seq,\n",
    "                                                      )\n",
    "    print(extre_index)\n",
    "    "
   ]
  }
 ],
 "metadata": {
  "kernelspec": {
   "display_name": "Python 3 (ipykernel)",
   "language": "python",
   "name": "python3"
  },
  "language_info": {
   "codemirror_mode": {
    "name": "ipython",
    "version": 3
   },
   "file_extension": ".py",
   "mimetype": "text/x-python",
   "name": "python",
   "nbconvert_exporter": "python",
   "pygments_lexer": "ipython3",
   "version": "3.9.6"
  },
  "varInspector": {
   "cols": {
    "lenName": 16,
    "lenType": 16,
    "lenVar": 40
   },
   "kernels_config": {
    "python": {
     "delete_cmd_postfix": "",
     "delete_cmd_prefix": "del ",
     "library": "var_list.py",
     "varRefreshCmd": "print(var_dic_list())"
    },
    "r": {
     "delete_cmd_postfix": ") ",
     "delete_cmd_prefix": "rm(",
     "library": "var_list.r",
     "varRefreshCmd": "cat(var_dic_list()) "
    }
   },
   "types_to_exclude": [
    "module",
    "function",
    "builtin_function_or_method",
    "instance",
    "_Feature"
   ],
   "window_display": false
  }
 },
 "nbformat": 4,
 "nbformat_minor": 5
}
