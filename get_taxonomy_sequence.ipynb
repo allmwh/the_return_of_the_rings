{
 "cells": [
  {
   "cell_type": "code",
   "execution_count": 1,
   "id": "03591971",
   "metadata": {},
   "outputs": [],
   "source": [
    "import pickle\n",
    "import numpy as np\n",
    "import pandas as pd\n",
    "from pathlib import Path\n",
    "from tqdm.notebook import trange\n",
    "\n",
    "import matplotlib as mpl\n",
    "import matplotlib.pyplot as plt\n",
    "\n",
    "from function.omaseq import FetchOmaSeqBatch\n",
    "from function.omaseq import TaxSeqFilter\n",
    "from function.alignment import Alignment\n",
    "from function.utilities import get_subset\n",
    "from function.seqfilter import FastaExtreFilter"
   ]
  },
  {
   "cell_type": "markdown",
   "id": "025f2388",
   "metadata": {},
   "source": [
    "# Param"
   ]
  },
  {
   "cell_type": "code",
   "execution_count": 2,
   "id": "588bf305",
   "metadata": {},
   "outputs": [],
   "source": [
    "#####CHANGE HERE#####\n",
    "uniprot_id = \"Q9Y4C8\"\n",
    "#####CHANGE HERE#####"
   ]
  },
  {
   "cell_type": "code",
   "execution_count": 3,
   "id": "f8b22458",
   "metadata": {},
   "outputs": [],
   "source": [
    "oma_path = Path(\"./output/fasta/a_oma\")\n",
    "grouped_path = Path(\"./output/fasta/b_grouped\")\n",
    "alied_path = Path(\"./output/fasta/c_alied\")\n",
    "extre_filtered_path = Path(\"./output/fasta/d_extre_filtered\")\n",
    "\n",
    "gap_filter_num = 20\n",
    "max_filter_seq = 3\n",
    "\n",
    "tax_ids = [7711, 7742, 32523, 40674] #chordata, vertebrata, tetrapoda, mammalia"
   ]
  },
  {
   "cell_type": "markdown",
   "id": "bc71b1ba",
   "metadata": {},
   "source": [
    "# Fetch oma seqence"
   ]
  },
  {
   "cell_type": "code",
   "execution_count": 4,
   "id": "093f7071",
   "metadata": {
    "scrolled": true
   },
   "outputs": [],
   "source": [
    "#get paralogs by uniprot id from OMA, \n",
    "#https://omabrowser.org/oma/home/\n",
    "fetchomaseq = FetchOmaSeqBatch()\n",
    "fetchomaseq.get_oma_seq(uniprot_id, oma_path)"
   ]
  },
  {
   "cell_type": "markdown",
   "id": "0332a850",
   "metadata": {},
   "source": [
    "# Group by taxonomy id"
   ]
  },
  {
   "cell_type": "code",
   "execution_count": 5,
   "id": "3222ec6c",
   "metadata": {},
   "outputs": [
    {
     "data": {
      "application/vnd.jupyter.widget-view+json": {
       "model_id": "31b7fd5b17744ca59a71769eeb8ecc78",
       "version_major": 2,
       "version_minor": 0
      },
      "text/plain": [
       "  0%|          | 0/4 [00:00<?, ?it/s]"
      ]
     },
     "metadata": {},
     "output_type": "display_data"
    }
   ],
   "source": [
    "#filter paralogs by taxonomy id, and save as fasta file\n",
    "t = trange(len(tax_ids), leave=True)\n",
    "for i in t:\n",
    "    t.set_description(str(tax_ids[i]))\n",
    "    t.refresh()\n",
    "\n",
    "    oma_fasta_path = oma_path / \"{}.fasta\".format(uniprot_id)\n",
    "\n",
    "    grouped_tax_path = grouped_path / str(tax_ids[i])\n",
    "    grouped_tax_path.mkdir(parents=True, exist_ok=True)\n",
    "    grouped_fasta_path = grouped_tax_path / \"{}.fasta\".format(uniprot_id)\n",
    "\n",
    "    taxfilter = TaxSeqFilter(tax_ids[i])\n",
    "    taxfilter.taxfilter(oma_fasta_path, grouped_fasta_path)"
   ]
  },
  {
   "cell_type": "markdown",
   "id": "49605bbc",
   "metadata": {},
   "source": [
    "# Alignment"
   ]
  },
  {
   "cell_type": "code",
   "execution_count": 50,
   "id": "c081ec36",
   "metadata": {},
   "outputs": [
    {
     "data": {
      "application/vnd.jupyter.widget-view+json": {
       "model_id": "3970c24e7e5c4a0ca2f3bf1ca8d55ba8",
       "version_major": 2,
       "version_minor": 0
      },
      "text/plain": [
       "  0%|          | 0/4 [00:00<?, ?it/s]"
      ]
     },
     "metadata": {},
     "output_type": "display_data"
    }
   ],
   "source": [
    "#alignment func by Biopython ClustalOmegaCommandline\n",
    "#need to install ClustalOmega: http://www.clustal.org/omega/\n",
    "alignment = Alignment()\n",
    "t = trange(len(tax_ids), leave=True)\n",
    "for i in t:\n",
    "    t.set_description(str(tax_ids[i]))\n",
    "    t.refresh()\n",
    "\n",
    "    grouped_tax_path = grouped_path / str(tax_ids[i])\n",
    "    grouped_fasta_path = grouped_tax_path / \"{}.fasta\".format(uniprot_id)\n",
    "\n",
    "    alied_tax_path = alied_path / str(tax_ids[i])\n",
    "    alied_tax_path.mkdir(parents=True, exist_ok=True)\n",
    "    alied_fasta_path = alied_tax_path / \"{}.fasta\".format(uniprot_id)\n",
    "\n",
    "    alignment.alignment_single(grouped_fasta_path, alied_fasta_path)"
   ]
  },
  {
   "cell_type": "markdown",
   "id": "1848d3cc",
   "metadata": {},
   "source": [
    "# Extre filter"
   ]
  },
  {
   "cell_type": "code",
   "execution_count": 4,
   "id": "5d954727",
   "metadata": {},
   "outputs": [
    {
     "data": {
      "application/vnd.jupyter.widget-view+json": {
       "model_id": "ec6f966bbef74085a267bc6a2257512e",
       "version_major": 2,
       "version_minor": 0
      },
      "text/plain": [
       "  0%|          | 0/4 [00:00<?, ?it/s]"
      ]
     },
     "metadata": {},
     "output_type": "display_data"
    },
    {
     "name": "stdout",
     "output_type": "stream",
     "text": [
      "{'before': 109, 'after': 98, 'removed_sequence_index': [108, 104, 93, 90, 74, 67, 66, 48, 37, 14, 1]}\n",
      "{'before': 107, 'after': 100, 'removed_sequence_index': [103, 92, 89, 73, 66, 65, 36]}\n",
      "{'before': 75, 'after': 65, 'removed_sequence_index': [71, 60, 57, 41, 34, 33, 32, 28, 15, 4]}\n",
      "{'before': 59, 'after': 52, 'removed_sequence_index': [57, 41, 34, 33, 32, 15, 4]}\n"
     ]
    }
   ],
   "source": [
    "#filter some special paralogs, \n",
    "#i.e. some sequences in paralogs has long gap(>20) in alied fasta file, \n",
    "#while other sequences do not have gap, we think this is \"special\", and filter it\n",
    "fastaextrefilter = FastaExtreFilter()\n",
    "t = trange(len(tax_ids), leave=True)\n",
    "for i in t:\n",
    "    t.set_description(str(tax_ids[i]))\n",
    "    t.refresh()\n",
    "\n",
    "    alied_tax_path = alied_path / str(tax_ids[i])\n",
    "    alied_fasta_path = alied_tax_path / \"{}.fasta\".format(uniprot_id)\n",
    "\n",
    "    extre_filtered_tax_path = extre_filtered_path / str(tax_ids[i])\n",
    "    extre_filtered_tax_path.mkdir(parents=True, exist_ok=True)\n",
    "    extre_filtered_tax_fasta_path = extre_filtered_tax_path / \"{}.fasta\".format(uniprot_id)\n",
    "\n",
    "    extre_index = fastaextrefilter.fasta_extre_filter(alied_fasta_path,\n",
    "                                                      extre_filtered_tax_fasta_path,\n",
    "                                                      gap_filter_num=gap_filter_num,\n",
    "                                                      max_filter_seq=max_filter_seq,\n",
    "                                                      )\n",
    "    print(extre_index)\n",
    "    "
   ]
  },
  {
   "cell_type": "code",
   "execution_count": 4,
   "id": "e48af63c",
   "metadata": {},
   "outputs": [],
   "source": [
    "alied_path = Path(\"/home/wenlin/d/rbp/oma_all/d_alied_rbp\")\n",
    "extre_filtered_path = Path(\"/home/wenlin/d/rbp/oma_all/e_extre_filtered_rbp\")"
   ]
  },
  {
   "cell_type": "code",
   "execution_count": 5,
   "id": "f1e57693",
   "metadata": {},
   "outputs": [
    {
     "data": {
      "application/vnd.jupyter.widget-view+json": {
       "model_id": "35e385c8c0a04f4a9a64a797632a4918",
       "version_major": 2,
       "version_minor": 0
      },
      "text/plain": [
       "  0%|          | 0/4 [00:00<?, ?it/s]"
      ]
     },
     "metadata": {},
     "output_type": "display_data"
    },
    {
     "name": "stdout",
     "output_type": "stream",
     "text": [
      "Q6P1Q9 FILTERED FASTA IS EMPTY\n",
      "Q6P1Q9\n",
      "Q13117 FILTERED FASTA IS EMPTY\n",
      "Q13117\n",
      "P0DJD3 FILTERED FASTA IS EMPTY\n",
      "P0DJD3\n",
      "P17844 FILTERED FASTA IS EMPTY\n",
      "P17844\n",
      "Q9NR90 FILTERED FASTA IS EMPTY\n",
      "Q9NR90\n",
      "P49792 FILTERED FASTA IS EMPTY\n",
      "P49792\n",
      "Q6P1Q9 FILTERED FASTA IS EMPTY\n",
      "Q6P1Q9\n",
      "Q13117 FILTERED FASTA IS EMPTY\n",
      "Q13117\n",
      "P0DJD3 FILTERED FASTA IS EMPTY\n",
      "P0DJD3\n",
      "Q8N5A5 FILTERED FASTA IS EMPTY\n",
      "Q8N5A5\n",
      "P17844 FILTERED FASTA IS EMPTY\n",
      "P17844\n",
      "Q9NR90 FILTERED FASTA IS EMPTY\n",
      "Q9NR90\n",
      "P49792 FILTERED FASTA IS EMPTY\n",
      "P49792\n",
      "Q6P1Q9 FILTERED FASTA IS EMPTY\n",
      "Q6P1Q9\n",
      "Q9BZB8 FILTERED FASTA IS EMPTY\n",
      "Q9BZB8\n",
      "P0DJD3 FILTERED FASTA IS EMPTY\n",
      "P0DJD3\n",
      "Q8N5A5 FILTERED FASTA IS EMPTY\n",
      "Q8N5A5\n",
      "P17844 FILTERED FASTA IS EMPTY\n",
      "P17844\n",
      "B5ME19 FILTERED FASTA IS EMPTY\n",
      "B5ME19\n",
      "Q9NR90 FILTERED FASTA IS EMPTY\n",
      "Q9NR90\n",
      "P49792 FILTERED FASTA IS EMPTY\n",
      "P49792\n",
      "Q9Y6E2 FILTERED FASTA IS EMPTY\n",
      "Q9Y6E2\n",
      "Q6IS14 FILTERED FASTA IS EMPTY\n",
      "Q6IS14\n",
      "Q6P1Q9 FILTERED FASTA IS EMPTY\n",
      "Q6P1Q9\n",
      "Q05639 FILTERED FASTA IS EMPTY\n",
      "Q05639\n",
      "Q8IZ69 FILTERED FASTA IS EMPTY\n",
      "Q8IZ69\n",
      "Q9BZB8 FILTERED FASTA IS EMPTY\n",
      "Q9BZB8\n",
      "O75127 FILTERED FASTA IS EMPTY\n",
      "O75127\n",
      "P0DJD3 FILTERED FASTA IS EMPTY\n",
      "P0DJD3\n",
      "P52435 FILTERED FASTA IS EMPTY\n",
      "P52435\n",
      "Q8N5A5 FILTERED FASTA IS EMPTY\n",
      "Q8N5A5\n",
      "B5ME19 FILTERED FASTA IS EMPTY\n",
      "B5ME19\n",
      "Q9NR90 FILTERED FASTA IS EMPTY\n",
      "Q9NR90\n",
      "O00584 FILTERED FASTA IS EMPTY\n",
      "O00584\n",
      "Q9Y6E2 FILTERED FASTA IS EMPTY\n",
      "Q9Y6E2\n",
      "Q6IS14 FILTERED FASTA IS EMPTY\n",
      "Q6IS14\n"
     ]
    }
   ],
   "source": [
    "fastaextrefilter = FastaExtreFilter()\n",
    "t = trange(len(tax_ids), leave=True)\n",
    "for i in t:\n",
    "    t.set_description(str(tax_ids[i]))\n",
    "    t.refresh()\n",
    "\n",
    "    alied_tax_path = alied_path / str(tax_ids[i])\n",
    "    \n",
    "\n",
    "    extre_filtered_tax_path = extre_filtered_path / str(tax_ids[i])\n",
    "    extre_filtered_tax_path.mkdir(parents=True, exist_ok=True)\n",
    "    \n",
    "    for alied_fasta_path in alied_tax_path.rglob(\"*.fasta\"):\n",
    "        try:\n",
    "            uniprot_id = alied_fasta_path.parts[-1].split('.')[0]\n",
    "\n",
    "            extre_filtered_tax_fasta_path = extre_filtered_tax_path / \"{}.fasta\".format(uniprot_id)\n",
    "\n",
    "\n",
    "            extre_index = fastaextrefilter.fasta_extre_filter(alied_fasta_path,\n",
    "                                                              extre_filtered_tax_fasta_path,\n",
    "                                                              gap_filter_num=gap_filter_num,\n",
    "                                                              max_filter_seq=max_filter_seq,\n",
    "                                                              )\n",
    "        except:\n",
    "            print(\"{}\".format(uniprot_id))"
   ]
  },
  {
   "cell_type": "code",
   "execution_count": null,
   "id": "047b7d42",
   "metadata": {},
   "outputs": [],
   "source": []
  }
 ],
 "metadata": {
  "kernelspec": {
   "display_name": "Python 3 (ipykernel)",
   "language": "python",
   "name": "python3"
  },
  "language_info": {
   "codemirror_mode": {
    "name": "ipython",
    "version": 3
   },
   "file_extension": ".py",
   "mimetype": "text/x-python",
   "name": "python",
   "nbconvert_exporter": "python",
   "pygments_lexer": "ipython3",
   "version": "3.9.6"
  },
  "varInspector": {
   "cols": {
    "lenName": 16,
    "lenType": 16,
    "lenVar": 40
   },
   "kernels_config": {
    "python": {
     "delete_cmd_postfix": "",
     "delete_cmd_prefix": "del ",
     "library": "var_list.py",
     "varRefreshCmd": "print(var_dic_list())"
    },
    "r": {
     "delete_cmd_postfix": ") ",
     "delete_cmd_prefix": "rm(",
     "library": "var_list.r",
     "varRefreshCmd": "cat(var_dic_list()) "
    }
   },
   "types_to_exclude": [
    "module",
    "function",
    "builtin_function_or_method",
    "instance",
    "_Feature"
   ],
   "window_display": false
  }
 },
 "nbformat": 4,
 "nbformat_minor": 5
}
