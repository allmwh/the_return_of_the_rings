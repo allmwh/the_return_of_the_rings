{
 "cells": [
  {
   "cell_type": "code",
   "execution_count": null,
   "id": "4a4b8237",
   "metadata": {},
   "outputs": [],
   "source": [
    "import pickle\n",
    "import numpy as np\n",
    "import pandas as pd\n",
    "from pathlib import Path\n",
    "from tqdm.notebook import trange\n",
    "\n",
    "from function.cutpondr import CutPONDR\n",
    "from function.utilities import get_uniprot_rawdata"
   ]
  },
  {
   "cell_type": "markdown",
   "id": "7eacb932",
   "metadata": {},
   "source": [
    "# Param"
   ]
  },
  {
   "cell_type": "code",
   "execution_count": null,
   "id": "6db3ae6f",
   "metadata": {},
   "outputs": [],
   "source": [
    "#####CHANGE HERE#####\n",
    "algorithm = \"VSL2\"  # PONDR algorithm for use (‘VLXT’, ‘XL1_XT’, ‘CAN_XT’, ‘VL3-BA’, 'VSL2')\n",
    "#####CHANGE HERE#####"
   ]
  },
  {
   "cell_type": "code",
   "execution_count": null,
   "id": "e7f78e84",
   "metadata": {},
   "outputs": [],
   "source": [
    "# path for protein data downloaded from uniprot\n",
    "pondr_disorder_ident_path = Path(\"./output/pondr_disorder_ident\")"
   ]
  },
  {
   "cell_type": "markdown",
   "id": "6907c83d",
   "metadata": {},
   "source": [
    "# Load uniprot data"
   ]
  },
  {
   "cell_type": "code",
   "execution_count": null,
   "id": "b10b2768",
   "metadata": {},
   "outputs": [],
   "source": [
    "human_uniprot_path = Path(\"./rawdata/human_uniprot.tab\")\n",
    "human_df = get_uniprot_rawdata(human_uniprot_path)\n",
    "human_df = human_df.sort_values(by=\"uniprot_id\", ignore_index=True)"
   ]
  },
  {
   "cell_type": "code",
   "execution_count": null,
   "id": "1ec4d5a6",
   "metadata": {},
   "outputs": [],
   "source": [
    "human_df"
   ]
  },
  {
   "cell_type": "markdown",
   "id": "6e9a92f8",
   "metadata": {},
   "source": [
    "# PONDR disorder identification"
   ]
  },
  {
   "cell_type": "code",
   "execution_count": null,
   "id": "2ae65416",
   "metadata": {},
   "outputs": [],
   "source": [
    "def pondr_disorder(cutpondr, input_df, algorithm):\n",
    "    \"\"\"\n",
    "    cutpondr: CutPONDR object\n",
    "    input_df: human_df for identify disorder/order sequences\n",
    "    algorithm : (‘VLXT’, ‘XL1_XT’, ‘CAN_XT’, ‘VL3-BA’, 'VSL2'), default ‘VLXT’, pondr algorithm for use\n",
    "    \"\"\"\n",
    "    output_df = pd.DataFrame(columns=[\"uniprot_id\", \"order_sequence\", \"disorder_sequence\", \"od_ident\"])\n",
    "    \n",
    "    \n",
    "    failed_list = []\n",
    "    t = trange(len(input_df), desc=\" \", leave=True)\n",
    "    for i in t:\n",
    "        uniprot_id = input_df.loc[i][\"uniprot_id\"]\n",
    "        protein_sequence = input_df.loc[i][\"protein_sequence\"]\n",
    "\n",
    "        t.set_description(uniprot_id)\n",
    "        t.refresh()\n",
    "\n",
    "        try:\n",
    "            cutpondr.cut(sequence=protein_sequence, protein_name=\"aa\", algorithm=algorithm)\n",
    "            order_sequence = cutpondr.get_order_sequence()\n",
    "            disorder_sequence = cutpondr.get_disorder_sequence()\n",
    "            od_ident = cutpondr.get_od_ident()\n",
    "            output_df = output_df.append(\n",
    "                {\n",
    "                    \"uniprot_id\": uniprot_id,\n",
    "                    \"order_sequence\": order_sequence,\n",
    "                    \"disorder_sequence\": disorder_sequence,\n",
    "                    \"od_ident\": od_ident,\n",
    "                },\n",
    "                ignore_index=True,\n",
    "            )\n",
    "        except:\n",
    "            t.set_description(\"{} failed\".format(uniprot_id))\n",
    "            t.refresh()\n",
    "            \n",
    "            print(\"{} failed\".format(uniprot_id))\n",
    "            failed_list.append(uniprot_id)\n",
    "     \n",
    "    \n",
    "    return output_df, failed_list"
   ]
  },
  {
   "cell_type": "code",
   "execution_count": null,
   "id": "4b3e3152",
   "metadata": {},
   "outputs": [],
   "source": [
    "cutpondr = CutPONDR(show_progress_window=False)\n",
    "od_human_df, failed_human_list = pondr_disorder(cutpondr, input_df=human_df, algorithm=algorithm)\n",
    "cutpondr.close()"
   ]
  },
  {
   "cell_type": "markdown",
   "id": "7736fc04",
   "metadata": {},
   "source": [
    "# Save output for further use"
   ]
  },
  {
   "cell_type": "code",
   "execution_count": null,
   "id": "62ca99a4",
   "metadata": {},
   "outputs": [],
   "source": [
    "disorder_ident_output = pondr_disorder_ident_path / \"{}_od_human_df.pkl\".format(algorithm)\n",
    "disorder_ident_failed_output = pondr_disorder_ident_path / \"{}_failed_human_list.pkl\".format(algorithm)\n",
    "\n",
    "print(disorder_ident_output)\n",
    "print(disorder_ident_failed_output)"
   ]
  },
  {
   "cell_type": "code",
   "execution_count": null,
   "id": "77877fa7",
   "metadata": {},
   "outputs": [],
   "source": [
    "od_human_df.to_pickle(disorder_ident_output)\n",
    "with open(disorder_ident_failed_output, \"wb\") as f:\n",
    "    pickle.dump(failed_human_list, f)"
   ]
  },
  {
   "cell_type": "code",
   "execution_count": null,
   "id": "27d58a7d",
   "metadata": {},
   "outputs": [],
   "source": [
    "#read\n",
    "# od_human_df = pd.read_pickle(disorder_ident_output)\n",
    "# with open(disorder_ident_failed_output, 'rb') as f:\n",
    "#     failed_human_list = pickle.load(f)"
   ]
  }
 ],
 "metadata": {
  "kernelspec": {
   "display_name": "Python 3 (ipykernel)",
   "language": "python",
   "name": "python3"
  },
  "language_info": {
   "codemirror_mode": {
    "name": "ipython",
    "version": 3
   },
   "file_extension": ".py",
   "mimetype": "text/x-python",
   "name": "python",
   "nbconvert_exporter": "python",
   "pygments_lexer": "ipython3",
   "version": "3.9.6"
  },
  "varInspector": {
   "cols": {
    "lenName": 16,
    "lenType": 16,
    "lenVar": 40
   },
   "kernels_config": {
    "python": {
     "delete_cmd_postfix": "",
     "delete_cmd_prefix": "del ",
     "library": "var_list.py",
     "varRefreshCmd": "print(var_dic_list())"
    },
    "r": {
     "delete_cmd_postfix": ") ",
     "delete_cmd_prefix": "rm(",
     "library": "var_list.r",
     "varRefreshCmd": "cat(var_dic_list()) "
    }
   },
   "types_to_exclude": [
    "module",
    "function",
    "builtin_function_or_method",
    "instance",
    "_Feature"
   ],
   "window_display": false
  }
 },
 "nbformat": 4,
 "nbformat_minor": 5
}
